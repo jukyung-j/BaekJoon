{
  "nbformat": 4,
  "nbformat_minor": 0,
  "metadata": {
    "colab": {
      "name": "Untitled40.ipynb",
      "provenance": [],
      "collapsed_sections": [],
      "authorship_tag": "ABX9TyNTFnOMinDg5n3+njQhmkvO",
      "include_colab_link": true
    },
    "kernelspec": {
      "name": "python3",
      "display_name": "Python 3"
    },
    "language_info": {
      "name": "python"
    }
  },
  "cells": [
    {
      "cell_type": "markdown",
      "metadata": {
        "id": "view-in-github",
        "colab_type": "text"
      },
      "source": [
        "<a href=\"https://colab.research.google.com/github/jukyung-j/BaekJoon/blob/master/AcmHotel.ipynb\" target=\"_parent\"><img src=\"https://colab.research.google.com/assets/colab-badge.svg\" alt=\"Open In Colab\"/></a>"
      ]
    },
    {
      "cell_type": "code",
      "execution_count": 33,
      "metadata": {
        "colab": {
          "base_uri": "https://localhost:8080/"
        },
        "id": "kuScjB-u4UyY",
        "outputId": "938680d3-2763-4095-fb7b-3e98b5649d81"
      },
      "outputs": [
        {
          "output_type": "stream",
          "name": "stdout",
          "text": [
            "2\n",
            "6 12 10\n",
            "30 50 72\n",
            "402\n",
            "1203\n"
          ]
        }
      ],
      "source": [
        "t = int(input())\n",
        "result = [0] * t\n",
        "for i in range(t):\n",
        "  h, w, n = map(int, input().split())\n",
        "  Y = str(n % h if n % h else h)\n",
        "  XX = n // h + 1 if n % h else n // h \n",
        "  XX = '0' + str(XX) if XX < 10 else str(XX)\n",
        "  result[i] = Y+XX\n",
        "\n",
        "for r in result:\n",
        "  print(r)"
      ]
    }
  ]
}