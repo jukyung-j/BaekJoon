{
  "nbformat": 4,
  "nbformat_minor": 0,
  "metadata": {
    "colab": {
      "name": "Untitled16.ipynb",
      "provenance": [],
      "authorship_tag": "ABX9TyN8Vps20iGaqwuw7dy5RrR4",
      "include_colab_link": true
    },
    "kernelspec": {
      "name": "python3",
      "display_name": "Python 3"
    },
    "language_info": {
      "name": "python"
    }
  },
  "cells": [
    {
      "cell_type": "markdown",
      "metadata": {
        "id": "view-in-github",
        "colab_type": "text"
      },
      "source": [
        "<a href=\"https://colab.research.google.com/github/jukyung-j/BaekJoon/blob/master/Antiwarrior_dp.ipynb\" target=\"_parent\"><img src=\"https://colab.research.google.com/assets/colab-badge.svg\" alt=\"Open In Colab\"/></a>"
      ]
    },
    {
      "cell_type": "code",
      "execution_count": 24,
      "metadata": {
        "colab": {
          "base_uri": "https://localhost:8080/"
        },
        "id": "rJCEh3PO10Wt",
        "outputId": "9865a432-108f-4e50-b5cd-582e9a4a087b"
      },
      "outputs": [
        {
          "output_type": "stream",
          "name": "stdout",
          "text": [
            "4\n",
            "1 3 1 5\n",
            "8\n"
          ]
        }
      ],
      "source": [
        "n = int(input())\n",
        "k = list(map(int, input().split()))\n",
        "\n",
        "result = [0] * n\n",
        "result[0] = k[0]\n",
        "result[1] = max(k[0], k[1])\n",
        "for i in range(2, n):\n",
        "  result[i] = max(result[i - 1], k[i] + result[i - 2])\n",
        "print(result[n - 1])\n"
      ]
    }
  ]
}