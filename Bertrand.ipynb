{
  "nbformat": 4,
  "nbformat_minor": 0,
  "metadata": {
    "colab": {
      "name": "Untitled50.ipynb",
      "provenance": [],
      "collapsed_sections": [],
      "authorship_tag": "ABX9TyNHsxJc8SY0tXT0NnHGTQtD",
      "include_colab_link": true
    },
    "kernelspec": {
      "name": "python3",
      "display_name": "Python 3"
    },
    "language_info": {
      "name": "python"
    }
  },
  "cells": [
    {
      "cell_type": "markdown",
      "metadata": {
        "id": "view-in-github",
        "colab_type": "text"
      },
      "source": [
        "<a href=\"https://colab.research.google.com/github/jukyung-j/BaekJoon/blob/master/Bertrand.ipynb\" target=\"_parent\"><img src=\"https://colab.research.google.com/assets/colab-badge.svg\" alt=\"Open In Colab\"/></a>"
      ]
    },
    {
      "cell_type": "code",
      "execution_count": 16,
      "metadata": {
        "colab": {
          "base_uri": "https://localhost:8080/"
        },
        "id": "g5IfLd_V8zw9",
        "outputId": "92b5fc59-96de-433f-d1d7-bb8bc0b7d867"
      },
      "outputs": [
        {
          "name": "stdout",
          "output_type": "stream",
          "text": [
            "123456\n",
            "10186\n",
            "0\n"
          ]
        }
      ],
      "source": [
        "def count_all_prime():\n",
        "  n = 123456 * 2  # 2n까지 계산 해주어야함\n",
        "  array = [True for i in range (n + 1)]\n",
        "  array[0], array[1] = False, False\n",
        "  for i in range(2, int((n + 1) ** 0.5) + 1):\n",
        "    if array[i]:\n",
        "      j = 2\n",
        "      while i * j <= n:\n",
        "        array[i * j] = False\n",
        "        j += 1\n",
        "  return array\n",
        "  \n",
        "condition = True\n",
        "array = count_all_prime()\n",
        "while condition:\n",
        "  n = int(input())\n",
        "  count = 0\n",
        "  if n == 0:\n",
        "    condition = False\n",
        "    break\n",
        "  for i in range(n + 1, 2 * n + 1):\n",
        "    if array[i]:\n",
        "      count += 1\n",
        "  print(count)\n",
        "\n"
      ]
    }
  ]
}