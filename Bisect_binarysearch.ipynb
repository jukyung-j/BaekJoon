{
  "nbformat": 4,
  "nbformat_minor": 0,
  "metadata": {
    "colab": {
      "name": "Untitled9.ipynb",
      "provenance": [],
      "collapsed_sections": [],
      "authorship_tag": "ABX9TyMBVtpvC0ReNrpNXGwEQJcy",
      "include_colab_link": true
    },
    "kernelspec": {
      "name": "python3",
      "display_name": "Python 3"
    },
    "language_info": {
      "name": "python"
    }
  },
  "cells": [
    {
      "cell_type": "markdown",
      "metadata": {
        "id": "view-in-github",
        "colab_type": "text"
      },
      "source": [
        "<a href=\"https://colab.research.google.com/github/jukyung-j/BaekJoon/blob/master/Bisect_binarysearch.ipynb\" target=\"_parent\"><img src=\"https://colab.research.google.com/assets/colab-badge.svg\" alt=\"Open In Colab\"/></a>"
      ]
    },
    {
      "cell_type": "code",
      "execution_count": 4,
      "metadata": {
        "colab": {
          "base_uri": "https://localhost:8080/"
        },
        "id": "bwGxkn4PBhb6",
        "outputId": "e8d0e26a-271d-4147-88a3-612d011c0515"
      },
      "outputs": [
        {
          "output_type": "stream",
          "name": "stdout",
          "text": [
            "7 2\n",
            "1 3 4 5 6 7 8\n",
            "-1\n"
          ]
        }
      ],
      "source": [
        "from bisect import bisect_left, bisect_right\n",
        "\n",
        "n, x = map(int, input().split())\n",
        "array = list(map(int, input().split()))\n",
        "left = bisect_left(array, x)\n",
        "right = bisect_right(array, x)\n",
        "count = right-left\n",
        "\n",
        "if count:\n",
        "  print(count)\n",
        "else:\n",
        "  print(\"-1\")\n",
        "\n"
      ]
    }
  ]
}