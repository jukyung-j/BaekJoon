{
  "nbformat": 4,
  "nbformat_minor": 0,
  "metadata": {
    "colab": {
      "name": "Untitled66.ipynb",
      "provenance": [],
      "collapsed_sections": [],
      "authorship_tag": "ABX9TyOL7ZuRh2yAgUPvced0jG/i",
      "include_colab_link": true
    },
    "kernelspec": {
      "name": "python3",
      "display_name": "Python 3"
    },
    "language_info": {
      "name": "python"
    }
  },
  "cells": [
    {
      "cell_type": "markdown",
      "metadata": {
        "id": "view-in-github",
        "colab_type": "text"
      },
      "source": [
        "<a href=\"https://colab.research.google.com/github/jukyung-j/BaekJoon/blob/master/BlackJack.ipynb\" target=\"_parent\"><img src=\"https://colab.research.google.com/assets/colab-badge.svg\" alt=\"Open In Colab\"/></a>"
      ]
    },
    {
      "cell_type": "code",
      "execution_count": 11,
      "metadata": {
        "colab": {
          "base_uri": "https://localhost:8080/"
        },
        "id": "tpSBGL5Gb95W",
        "outputId": "db692e08-02ed-4472-a222-f1cabd6d72f6"
      },
      "outputs": [
        {
          "output_type": "stream",
          "name": "stdout",
          "text": [
            "10 500\n",
            "93 181 245 214 315 36 185 138 216 295\n",
            "497\n"
          ]
        }
      ],
      "source": [
        "n, m = map(int, input().split())\n",
        "card = list(map(int, input().split()))\n",
        "card.sort(reverse = True)\n",
        "max = 0\n",
        "\n",
        "for i in range(len(card) - 2):\n",
        "  if max == m:\n",
        "        break\n",
        "  for j in range(i + 1, len(card) - 1):\n",
        "    for k in range(j + 1, len(card)):\n",
        "      player = card[i] + card[j] + card[k]\n",
        "      if player <= m and player > max:\n",
        "        max = player\n",
        "      \n",
        "\n",
        "print(max)\n",
        "\n"
      ]
    }
  ]
}