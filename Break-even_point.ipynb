{
  "nbformat": 4,
  "nbformat_minor": 0,
  "metadata": {
    "colab": {
      "name": "Untitled36.ipynb",
      "provenance": [],
      "authorship_tag": "ABX9TyMiZIav2HyRpKtDfrolIdWn",
      "include_colab_link": true
    },
    "kernelspec": {
      "name": "python3",
      "display_name": "Python 3"
    },
    "language_info": {
      "name": "python"
    }
  },
  "cells": [
    {
      "cell_type": "markdown",
      "metadata": {
        "id": "view-in-github",
        "colab_type": "text"
      },
      "source": [
        "<a href=\"https://colab.research.google.com/github/jukyung-j/BaekJoon/blob/master/Break-even_point.ipynb\" target=\"_parent\"><img src=\"https://colab.research.google.com/assets/colab-badge.svg\" alt=\"Open In Colab\"/></a>"
      ]
    },
    {
      "cell_type": "code",
      "execution_count": 9,
      "metadata": {
        "colab": {
          "base_uri": "https://localhost:8080/"
        },
        "id": "1A9brFjzJkiz",
        "outputId": "85e9521c-3eb9-447c-baa7-b81857ca627e"
      },
      "outputs": [
        {
          "output_type": "stream",
          "name": "stdout",
          "text": [
            "3 2 1\n",
            "-1\n"
          ]
        }
      ],
      "source": [
        "a, b, c = map(int, input().split())\n",
        "if c > b:   # 노트북 가격이 가변 비용보다 크면 이익이 난다\n",
        "  point = a // (c - b)  + 1\n",
        "else:\n",
        "  point = -1\n",
        "print(point)"
      ]
    },
    {
      "cell_type": "code",
      "source": [
        ""
      ],
      "metadata": {
        "id": "c-Ub7g2cM6_4"
      },
      "execution_count": null,
      "outputs": []
    }
  ]
}