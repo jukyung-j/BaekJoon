{
  "nbformat": 4,
  "nbformat_minor": 0,
  "metadata": {
    "colab": {
      "name": "Untitled48.ipynb",
      "provenance": [],
      "collapsed_sections": [],
      "authorship_tag": "ABX9TyNXSwn8u6sRHc8nQVA7VPbI",
      "include_colab_link": true
    },
    "kernelspec": {
      "name": "python3",
      "display_name": "Python 3"
    },
    "language_info": {
      "name": "python"
    }
  },
  "cells": [
    {
      "cell_type": "markdown",
      "metadata": {
        "id": "view-in-github",
        "colab_type": "text"
      },
      "source": [
        "<a href=\"https://colab.research.google.com/github/jukyung-j/BaekJoon/blob/master/CalculatePrimeNumber.ipynb\" target=\"_parent\"><img src=\"https://colab.research.google.com/assets/colab-badge.svg\" alt=\"Open In Colab\"/></a>"
      ]
    },
    {
      "cell_type": "code",
      "execution_count": 4,
      "metadata": {
        "colab": {
          "base_uri": "https://localhost:8080/"
        },
        "id": "pIJU8k4D0XT2",
        "outputId": "a351f0f5-565c-4525-caad-1017d8d1348e"
      },
      "outputs": [
        {
          "output_type": "stream",
          "name": "stdout",
          "text": [
            "1 3\n",
            "2\n",
            "3\n"
          ]
        }
      ],
      "source": [
        "m, n = map(int, input().split())\n",
        "is_prime = True\n",
        "for i in range(m, n + 1):\n",
        "  if i > 1:\n",
        "    for j in range(2, int(i ** (1 / 2)) + 1):\n",
        "      if i % j == 0:\n",
        "        is_prime = False\n",
        "        break\n",
        "      is_prime = True\n",
        "    if is_prime:\n",
        "      print(i)"
      ]
    }
  ]
}