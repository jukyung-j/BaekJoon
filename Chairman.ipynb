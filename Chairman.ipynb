{
  "nbformat": 4,
  "nbformat_minor": 0,
  "metadata": {
    "colab": {
      "name": "Untitled41.ipynb",
      "provenance": [],
      "collapsed_sections": [],
      "authorship_tag": "ABX9TyOnFzFH8B/C3g4FVgl1BUQM",
      "include_colab_link": true
    },
    "kernelspec": {
      "name": "python3",
      "display_name": "Python 3"
    },
    "language_info": {
      "name": "python"
    }
  },
  "cells": [
    {
      "cell_type": "markdown",
      "metadata": {
        "id": "view-in-github",
        "colab_type": "text"
      },
      "source": [
        "<a href=\"https://colab.research.google.com/github/jukyung-j/BaekJoon/blob/master/Chairman.ipynb\" target=\"_parent\"><img src=\"https://colab.research.google.com/assets/colab-badge.svg\" alt=\"Open In Colab\"/></a>"
      ]
    },
    {
      "cell_type": "code",
      "execution_count": 17,
      "metadata": {
        "colab": {
          "base_uri": "https://localhost:8080/"
        },
        "id": "LVfLJL5__yZ0",
        "outputId": "7795e933-0ea0-4214-d962-f0697c9c4f3f"
      },
      "outputs": [
        {
          "output_type": "stream",
          "name": "stdout",
          "text": [
            "2\n",
            "2\n",
            "3\n",
            "10\n",
            "1\n",
            "3\n",
            "6\n"
          ]
        }
      ],
      "source": [
        "t = int(input())\n",
        "result = [0] * t\n",
        "for t in range(t):\n",
        "  k = int(input())\n",
        "  n = int(input())\n",
        "  d = [[0] * 15 for _ in range(15)] \n",
        "  for i in range(1, 15):\n",
        "    d[0][i] = i\n",
        "  for i in range(1, k + 1):\n",
        "    for j in range(1, n + 1):\n",
        "      for z in range(1, j + 1):\n",
        "        d[i][j] += d[i - 1][z]\n",
        "  print(d[k][n])"
      ]
    }
  ]
}