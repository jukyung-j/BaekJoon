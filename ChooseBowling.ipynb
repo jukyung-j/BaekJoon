{
  "nbformat": 4,
  "nbformat_minor": 0,
  "metadata": {
    "colab": {
      "name": "Untitled62.ipynb",
      "provenance": [],
      "authorship_tag": "ABX9TyOEp3aL//q12jF3S7elhoc4",
      "include_colab_link": true
    },
    "kernelspec": {
      "name": "python3",
      "display_name": "Python 3"
    },
    "language_info": {
      "name": "python"
    }
  },
  "cells": [
    {
      "cell_type": "markdown",
      "metadata": {
        "id": "view-in-github",
        "colab_type": "text"
      },
      "source": [
        "<a href=\"https://colab.research.google.com/github/jukyung-j/BaekJoon/blob/master/ChooseBowling.ipynb\" target=\"_parent\"><img src=\"https://colab.research.google.com/assets/colab-badge.svg\" alt=\"Open In Colab\"/></a>"
      ]
    },
    {
      "cell_type": "code",
      "execution_count": 3,
      "metadata": {
        "colab": {
          "base_uri": "https://localhost:8080/"
        },
        "id": "tf5jbuVuj8Mt",
        "outputId": "e080c8d3-ba7e-41f2-9728-72b4af624ec8"
      },
      "outputs": [
        {
          "output_type": "stream",
          "name": "stdout",
          "text": [
            "5 3\n",
            "1 3 2 3 2\n",
            "8\n"
          ]
        }
      ],
      "source": [
        "n, m = map(int, input().split())\n",
        "ball = list(map(int, input().split()))\n",
        "count = 0\n",
        "for i in range(n - 1):\n",
        "  for j in range(i + 1, n):\n",
        "    if ball[i] != ball[j]:\n",
        "      count += 1\n",
        "print(count)"
      ]
    },
    {
      "cell_type": "code",
      "source": [
        "# 답지\n",
        "n, m = map(int, input().split())\n",
        "data = list(map(int, input().split()))\n",
        "\n",
        "array = [0] * 11\n",
        "\n",
        "for x in data:\n",
        "  array[x] += 1\n",
        "\n",
        "result = 0\n",
        "for i in range(1, m + 1):\n",
        "  n -= array[i]\n",
        "  result += array[i] * n\n",
        "\n",
        "print(result)"
      ],
      "metadata": {
        "colab": {
          "base_uri": "https://localhost:8080/"
        },
        "id": "QWqS9ZrJljcB",
        "outputId": "81e7da1b-9e2b-492f-92f2-62e546468812"
      },
      "execution_count": 5,
      "outputs": [
        {
          "output_type": "stream",
          "name": "stdout",
          "text": [
            "8 5\n",
            "1 5 4 3 2 4 5 2\n",
            "25\n"
          ]
        }
      ]
    }
  ]
}