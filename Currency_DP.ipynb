{
  "nbformat": 4,
  "nbformat_minor": 0,
  "metadata": {
    "colab": {
      "name": "Untitled18.ipynb",
      "provenance": [],
      "collapsed_sections": [],
      "authorship_tag": "ABX9TyPk5fsz69nsZyTr3nhaSeZx",
      "include_colab_link": true
    },
    "kernelspec": {
      "name": "python3",
      "display_name": "Python 3"
    },
    "language_info": {
      "name": "python"
    }
  },
  "cells": [
    {
      "cell_type": "markdown",
      "metadata": {
        "id": "view-in-github",
        "colab_type": "text"
      },
      "source": [
        "<a href=\"https://colab.research.google.com/github/jukyung-j/BaekJoon/blob/master/Currency_DP.ipynb\" target=\"_parent\"><img src=\"https://colab.research.google.com/assets/colab-badge.svg\" alt=\"Open In Colab\"/></a>"
      ]
    },
    {
      "cell_type": "code",
      "execution_count": 14,
      "metadata": {
        "colab": {
          "base_uri": "https://localhost:8080/"
        },
        "id": "o0qUbWEt-CT4",
        "outputId": "9a3e9fc3-71a4-4ec4-87b6-1cddd470cc87"
      },
      "outputs": [
        {
          "output_type": "stream",
          "name": "stdout",
          "text": [
            "2 7\n",
            "2\n",
            "3\n",
            "3\n"
          ]
        }
      ],
      "source": [
        "n, m = map(int, input().split())\n",
        "coin = [int(input()) for _ in range(n)]\n",
        "dp = [10001] * (m + 1)\n",
        "dp[0] = 0\n",
        "\n",
        "for i in range(m + 1):\n",
        "  for j in coin:\n",
        "    if i >= j:\n",
        "      dp[i] = min(dp[i], 1 + dp[i - j])\n",
        "\n",
        "if dp[m] == 10001:\n",
        "  dp[m] = -1\n",
        "print(dp[m])"
      ]
    },
    {
      "cell_type": "code",
      "source": [
        "n, m = map(int, input().split())\n",
        "array = []\n",
        "for i in range(n):\n",
        "  array.append(int(input()))\n",
        "d = [10001] * (m + 1)\n",
        "\n",
        "d[0] = 0\n",
        "for i in range(n):\n",
        "  for j in range(array[i], m + 1):\n",
        "    if d[j - array[i] != 10001]:\n",
        "      d[j] = min(d[j], d[j - array[i] + 1])\n",
        "\n",
        "if d[m] == 10001:\n",
        "  print(-1)\n",
        "else:\n",
        "  print(d[m])"
      ],
      "metadata": {
        "id": "yeF70y4rL982"
      },
      "execution_count": null,
      "outputs": []
    }
  ]
}