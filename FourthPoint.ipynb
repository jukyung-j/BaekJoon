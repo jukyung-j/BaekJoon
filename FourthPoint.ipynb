{
  "nbformat": 4,
  "nbformat_minor": 0,
  "metadata": {
    "colab": {
      "name": "Untitled57.ipynb",
      "provenance": [],
      "authorship_tag": "ABX9TyPe7iVr4kkYoUit1BJPCLcs",
      "include_colab_link": true
    },
    "kernelspec": {
      "name": "python3",
      "display_name": "Python 3"
    },
    "language_info": {
      "name": "python"
    }
  },
  "cells": [
    {
      "cell_type": "markdown",
      "metadata": {
        "id": "view-in-github",
        "colab_type": "text"
      },
      "source": [
        "<a href=\"https://colab.research.google.com/github/jukyung-j/BaekJoon/blob/master/FourthPoint.ipynb\" target=\"_parent\"><img src=\"https://colab.research.google.com/assets/colab-badge.svg\" alt=\"Open In Colab\"/></a>"
      ]
    },
    {
      "cell_type": "code",
      "execution_count": 23,
      "metadata": {
        "colab": {
          "base_uri": "https://localhost:8080/"
        },
        "id": "8tue65evBBHm",
        "outputId": "09d9cdea-4180-4771-a66c-ff9cb67c4435"
      },
      "outputs": [
        {
          "output_type": "stream",
          "name": "stdout",
          "text": [
            "30 20\n",
            "10 10\n",
            "10 20\n",
            "30 10\n"
          ]
        }
      ],
      "source": [
        "coordinate = [[] for _ in range(3)]\n",
        "x, y =[] * 3, [] * 3\n",
        "coordinate_x, coordinate_y = 0, 0\n",
        "for i in range(3):\n",
        "  coordinate[i] = list(map(int, input().split()))\n",
        "for i in range(3):\n",
        "  x.append(coordinate[i][0])\n",
        "  y.append(coordinate[i][1])\n",
        "set_x, set_y = set(x), set(y)\n",
        "for x in set_x:\n",
        "  for y in set_y:\n",
        "    if [x, y] not in coordinate:\n",
        "      print(x, y)"
      ]
    }
  ]
}