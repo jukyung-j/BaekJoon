{
  "nbformat": 4,
  "nbformat_minor": 0,
  "metadata": {
    "colab": {
      "name": "Untitled26.ipynb",
      "provenance": [],
      "collapsed_sections": [],
      "authorship_tag": "ABX9TyP3zB3g2M0e31+iy4o+/bEz",
      "include_colab_link": true
    },
    "kernelspec": {
      "name": "python3",
      "display_name": "Python 3"
    },
    "language_info": {
      "name": "python"
    }
  },
  "cells": [
    {
      "cell_type": "markdown",
      "metadata": {
        "id": "view-in-github",
        "colab_type": "text"
      },
      "source": [
        "<a href=\"https://colab.research.google.com/github/jukyung-j/BaekJoon/blob/master/Future_city.ipynb\" target=\"_parent\"><img src=\"https://colab.research.google.com/assets/colab-badge.svg\" alt=\"Open In Colab\"/></a>"
      ]
    },
    {
      "cell_type": "code",
      "execution_count": 6,
      "metadata": {
        "colab": {
          "base_uri": "https://localhost:8080/",
          "height": 136
        },
        "id": "nWtBhCIaw67n",
        "outputId": "fb6fc43f-34d7-4d00-ef14-9080b077f6fc"
      },
      "outputs": [
        {
          "output_type": "error",
          "ename": "SyntaxError",
          "evalue": "ignored",
          "traceback": [
            "\u001b[0;36m  File \u001b[0;32m\"<ipython-input-6-c16ed588da84>\"\u001b[0;36m, line \u001b[0;32m27\u001b[0m\n\u001b[0;31m    if graph[1][x] = INF:\u001b[0m\n\u001b[0m                   ^\u001b[0m\n\u001b[0;31mSyntaxError\u001b[0m\u001b[0;31m:\u001b[0m invalid syntax\n"
          ]
        }
      ],
      "source": [
        "n, m = map(int, input().split())\n",
        "INF = int(1e9)\n",
        "graph = [[INF] * (n + 1) for _ in range(n + 1)]\n",
        "\n",
        "for i in range(1, n + 1):\n",
        "  graph[i][i] = 0\n",
        "\n",
        "for _ in range(m):\n",
        "  i, j = map(int, input().split())\n",
        "  graph[i][j] = 1\n",
        "  graph[j][i] = 1\n",
        "\n",
        "x, k = map(int, input().split())\n",
        "\n",
        "# 플로이드 알고리즘\n",
        "# for k in range(1, n + 1):\n",
        "#   for a in range(1, n + 1):\n",
        "#     for b in range(1, n + 1):\n",
        "#       graph[a][b] = min(graph[a][b], graph[a][k] + graph[k][b])\n",
        "\n",
        "for i in range(2, k):\n",
        "  graph[1][k] = min(graph[1][k], graph[1][i] + graph[i][k])\n",
        "\n",
        "for i in range(2, x):\n",
        "  graph[k][x] = min(graph[k][x], graph[k][i] + graph[i][k])\n",
        "distance=  graph[1][k] + graph[k][x]\n",
        "\n",
        "if distance >= INF:\n",
        "  distance = -1\n",
        "print(distance)\n",
        "\n"
      ]
    },
    {
      "cell_type": "code",
      "source": [
        ""
      ],
      "metadata": {
        "id": "IQrtK9uk50v5"
      },
      "execution_count": null,
      "outputs": []
    }
  ]
}