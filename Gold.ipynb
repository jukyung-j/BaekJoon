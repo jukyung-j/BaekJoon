{
  "nbformat": 4,
  "nbformat_minor": 0,
  "metadata": {
    "colab": {
      "name": "Untitled19.ipynb",
      "provenance": [],
      "collapsed_sections": [],
      "authorship_tag": "ABX9TyMWvcVPKngB5pWTRMORkWmS",
      "include_colab_link": true
    },
    "kernelspec": {
      "name": "python3",
      "display_name": "Python 3"
    },
    "language_info": {
      "name": "python"
    }
  },
  "cells": [
    {
      "cell_type": "markdown",
      "metadata": {
        "id": "view-in-github",
        "colab_type": "text"
      },
      "source": [
        "<a href=\"https://colab.research.google.com/github/jukyung-j/BaekJoon/blob/master/Gold.ipynb\" target=\"_parent\"><img src=\"https://colab.research.google.com/assets/colab-badge.svg\" alt=\"Open In Colab\"/></a>"
      ]
    },
    {
      "cell_type": "code",
      "execution_count": null,
      "metadata": {
        "colab": {
          "base_uri": "https://localhost:8080/"
        },
        "id": "gWDOIojXj4ly",
        "outputId": "073f4896-77fb-4d70-fc8f-445364da0c2a"
      },
      "outputs": [
        {
          "output_type": "stream",
          "name": "stdout",
          "text": [
            "2\n",
            "3 4\n",
            "1 3 3 2 2 1 4 1 0 6 4 7\n",
            "dp[ 1 ] :  8\n",
            "dp[ 2 ] :  12\n",
            "dp[ 3 ] :  19\n",
            "19\n",
            "4 4\n",
            "1 3 1 5 2 2 4 1 5 0 2 3 0 6 1 2\n",
            "dp[ 1 ] :  11\n",
            "dp[ 2 ] :  13\n",
            "dp[ 3 ] :  16\n",
            "16\n"
          ]
        }
      ],
      "source": [
        "T = int(input())\n",
        "for t in range(T):\n",
        "  n, m = map(int, input().split())\n",
        "  array = list(map(int, input().split()))\n",
        "  arr = [[0 for col in range(m)] for row in range(n)]\n",
        "  one_arr = []\n",
        "  dp =[0] * m\n",
        "  j = 0\n",
        "  for i in range(n):  # 입력받은 숫자 2차원으로 저장\n",
        "    arr[i] = array[j: j + 4]\n",
        "    j += m\n",
        "  for i in range(n):  # 첫 열에서 가장 큰 값 찾기\n",
        "    one_arr.append(arr[i][0])\n",
        "  dp[0] = max(one_arr) # dp[0]에 저장\n",
        "  row = one_arr.index(dp[0])  # 행의 주소 저장\n",
        "  for i in range(1, m):\n",
        "    dp[i] = dp[i - 1] + arr[row][i] # 같은행을 저장\n",
        "    if row - 1 >= 0:\n",
        "      dp[i] = max(dp[i], dp[i - 1] + arr[row - 1][i]) # 위에값과 현재 값 비교\n",
        "      row_index = row - 1\n",
        "    if row + 1 < n:\n",
        "      dp[i] = max(dp[i], dp[i - 1] + arr[row + 1][i]) # 밑에 값과 현재 값 비교\n",
        "      row_index = row + 1\n",
        "    row = row_index\n",
        "  print(dp[m - 1])  "
      ]
    },
    {
      "cell_type": "code",
      "source": [
        "# 테스트 케이스 입력\n",
        "for tc in range(int(input())):\n",
        "  # 금광 정보 입력\n",
        "  n, m = map(int, input().split())\n",
        "  array = list(map(int, input().split()))\n",
        "  # 다이나믹 프로그래밍을 위한 2차원 DP 테이블 초기화\n",
        "  dp = []\n",
        "  index = 0\n",
        "  for i in range(n):\n",
        "    dp.append(array[index:index + m])\n",
        "    index += m\n",
        "  # 다이나믹 프로그래밍 진행\n",
        "  for j in range(1, m):\n",
        "    for i in range(n):\n",
        "      # 왼쪽 위에서 오는 경우\n",
        "      if i == 0: left_up = 0\n",
        "      else: left_up = dp[i - 1][j - 1]\n",
        "      # 왼쪽 아래에서 오는 경우\n",
        "      if i == n - 1: left_down = 0\n",
        "      else: left_down = dp[i + 1][j - 1]\n",
        "      # 왼쪽에서 오는 경우\n",
        "      left = dp[i][j - 1]\n",
        "      dp[i][j] = dp[i][j] + max(left_up, left_down, left)\n",
        "    result = 0\n",
        "    for i in range(n):\n",
        "      result = max(result, dp[i][m - 1])\n",
        "    print(result)"
      ],
      "metadata": {
        "id": "TfU-qyWywiM2"
      },
      "execution_count": null,
      "outputs": []
    }
  ]
}