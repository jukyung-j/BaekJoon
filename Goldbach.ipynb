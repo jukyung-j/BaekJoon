{
  "nbformat": 4,
  "nbformat_minor": 0,
  "metadata": {
    "colab": {
      "name": "Untitled52.ipynb",
      "provenance": [],
      "collapsed_sections": [],
      "authorship_tag": "ABX9TyOH8bl79gqvhR4mmQUSjPSb",
      "include_colab_link": true
    },
    "kernelspec": {
      "name": "python3",
      "display_name": "Python 3"
    },
    "language_info": {
      "name": "python"
    }
  },
  "cells": [
    {
      "cell_type": "markdown",
      "metadata": {
        "id": "view-in-github",
        "colab_type": "text"
      },
      "source": [
        "<a href=\"https://colab.research.google.com/github/jukyung-j/BaekJoon/blob/master/Goldbach.ipynb\" target=\"_parent\"><img src=\"https://colab.research.google.com/assets/colab-badge.svg\" alt=\"Open In Colab\"/></a>"
      ]
    },
    {
      "cell_type": "code",
      "execution_count": 14,
      "metadata": {
        "colab": {
          "base_uri": "https://localhost:8080/"
        },
        "id": "G5WAdjVp1R8V",
        "outputId": "068e78b9-662c-426a-c1db-377d1578aafe"
      },
      "outputs": [
        {
          "output_type": "stream",
          "name": "stdout",
          "text": [
            "3\n",
            "8\n",
            "3 5\n",
            "10\n",
            "5 5\n",
            "16\n",
            "5 11\n"
          ]
        }
      ],
      "source": [
        "import math\n",
        "\n",
        "def find_prime_number():\n",
        "  n = 10000\n",
        "  prime = [True] * (n + 1)\n",
        "  prime[0], prime[1] = False, False\n",
        "  for i in range(2, int(math.sqrt(n)) + 1):\n",
        "    j = 2\n",
        "    while i * j <= n:\n",
        "      prime[i * j] = False\n",
        "      j += 1\n",
        "  return prime\n",
        "\n",
        "t = int(input())\n",
        "prime = find_prime_number()\n",
        "for _ in range(t):\n",
        "  n = int(input())\n",
        "  num = []\n",
        "  for i in range(n):\n",
        "    if prime[i]:\n",
        "      num.append(i)\n",
        "  i, j = 0, len(num) - 1\n",
        "  while i <= j:\n",
        "    if num[i] + num[j] > n:\n",
        "      j -= 1\n",
        "    elif num[i] + num[j] < n:\n",
        "      i += 1\n",
        "    else:\n",
        "      a = i\n",
        "      b = j\n",
        "      i += 1\n",
        "    \n",
        "  print(num[a], num[b])\n",
        "  num.clear()\n"
      ]
    }
  ]
}