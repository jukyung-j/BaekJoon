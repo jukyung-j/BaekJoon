{
  "nbformat": 4,
  "nbformat_minor": 0,
  "metadata": {
    "colab": {
      "name": "Untitled30.ipynb",
      "provenance": [],
      "collapsed_sections": [],
      "authorship_tag": "ABX9TyPq/nZ2BbYYswdaWKVsT7IX",
      "include_colab_link": true
    },
    "kernelspec": {
      "name": "python3",
      "display_name": "Python 3"
    },
    "language_info": {
      "name": "python"
    }
  },
  "cells": [
    {
      "cell_type": "markdown",
      "metadata": {
        "id": "view-in-github",
        "colab_type": "text"
      },
      "source": [
        "<a href=\"https://colab.research.google.com/github/jukyung-j/BaekJoon/blob/master/Groupword.ipynb\" target=\"_parent\"><img src=\"https://colab.research.google.com/assets/colab-badge.svg\" alt=\"Open In Colab\"/></a>"
      ]
    },
    {
      "cell_type": "code",
      "execution_count": 23,
      "metadata": {
        "colab": {
          "base_uri": "https://localhost:8080/"
        },
        "id": "P7UyyrrRdpD6",
        "outputId": "ec627899-5d2a-4870-fee8-564f51150d27"
      },
      "outputs": [
        {
          "output_type": "stream",
          "name": "stdout",
          "text": [
            "1\n",
            "z\n",
            "1\n"
          ]
        }
      ],
      "source": [
        "n = int(input())\n",
        "for i in range(n):\n",
        "  word = input()\n",
        "  for j in range(len(word) - 1):\n",
        "    if word[j] == word[j + 1]:\n",
        "      continue\n",
        "    elif word[j] in word[j + 2:]:\n",
        "      n -= 1\n",
        "      break;\n",
        "print(n)"
      ]
    }
  ]
}