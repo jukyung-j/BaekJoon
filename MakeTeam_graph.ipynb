{
  "nbformat": 4,
  "nbformat_minor": 0,
  "metadata": {
    "colab": {
      "name": "Untitled51.ipynb",
      "provenance": [],
      "collapsed_sections": [],
      "authorship_tag": "ABX9TyOyn/P4ByCR37SVaaqZ9lxA",
      "include_colab_link": true
    },
    "kernelspec": {
      "name": "python3",
      "display_name": "Python 3"
    },
    "language_info": {
      "name": "python"
    }
  },
  "cells": [
    {
      "cell_type": "markdown",
      "metadata": {
        "id": "view-in-github",
        "colab_type": "text"
      },
      "source": [
        "<a href=\"https://colab.research.google.com/github/jukyung-j/BaekJoon/blob/master/MakeTeam_graph.ipynb\" target=\"_parent\"><img src=\"https://colab.research.google.com/assets/colab-badge.svg\" alt=\"Open In Colab\"/></a>"
      ]
    },
    {
      "cell_type": "code",
      "execution_count": 4,
      "metadata": {
        "colab": {
          "base_uri": "https://localhost:8080/"
        },
        "id": "eV771XJcVlGn",
        "outputId": "1835e40c-030f-4d44-b470-aeb4eb78da78"
      },
      "outputs": [
        {
          "output_type": "stream",
          "name": "stdout",
          "text": [
            "7 8\n",
            "0 1 3\n",
            "1 1 7\n",
            "NO\n",
            "0 7 6\n",
            "1 7 1\n",
            "NO\n",
            "0 3 7\n",
            "0 4 2\n",
            "0 1 1\n",
            "1 1 1\n",
            "YES\n"
          ]
        }
      ],
      "source": [
        "def find_parent(parent, x):\n",
        "  if parent[x] != x:\n",
        "    parent[x] = find_parent(parent, parent[x])\n",
        "  return parent[x]\n",
        "\n",
        "def union_parent(parent, a, b):\n",
        "  a = find_parent(parent, a)\n",
        "  b = find_parent(parent, b)\n",
        "  if a < b:\n",
        "    parent[b] = a\n",
        "  else:\n",
        "    parent[a] = b\n",
        "\n",
        "n, m = map(int, input().split())\n",
        "parent = [0] * (n + 1)\n",
        "\n",
        "for i in range(1, n + 1): # 부모를 자기 자신으로 초기화\n",
        "  parent[i] = i\n",
        "\n",
        "for _ in range(m):\n",
        "  t, a, b = map(int, input().split())\n",
        "  if t == 0:\n",
        "    union_parent(parent, a, b)\n",
        "  else:\n",
        "    parent_a = find_parent(parent, a)\n",
        "    parent_b = find_parent(parent, b)\n",
        "    if parent_a == parent_b:\n",
        "      print(\"YES\")\n",
        "    else:\n",
        "      print(\"NO\")"
      ]
    }
  ]
}