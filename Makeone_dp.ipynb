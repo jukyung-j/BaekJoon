{
  "nbformat": 4,
  "nbformat_minor": 0,
  "metadata": {
    "colab": {
      "name": "Untitled17.ipynb",
      "provenance": [],
      "authorship_tag": "ABX9TyMLAAG8V8tS9bs6WLSW7bvT",
      "include_colab_link": true
    },
    "kernelspec": {
      "name": "python3",
      "display_name": "Python 3"
    },
    "language_info": {
      "name": "python"
    }
  },
  "cells": [
    {
      "cell_type": "markdown",
      "metadata": {
        "id": "view-in-github",
        "colab_type": "text"
      },
      "source": [
        "<a href=\"https://colab.research.google.com/github/jukyung-j/BaekJoon/blob/master/Makeone_dp.ipynb\" target=\"_parent\"><img src=\"https://colab.research.google.com/assets/colab-badge.svg\" alt=\"Open In Colab\"/></a>"
      ]
    },
    {
      "cell_type": "code",
      "execution_count": 3,
      "metadata": {
        "colab": {
          "base_uri": "https://localhost:8080/"
        },
        "id": "BWtrU0jf_Epa",
        "outputId": "723711c4-5df5-4ef2-87db-6b5e7df00c20"
      },
      "outputs": [
        {
          "output_type": "stream",
          "name": "stdout",
          "text": [
            "26\n",
            "3\n"
          ]
        }
      ],
      "source": [
        "x = int(input())\n",
        "dp = [0] * (x + 1)\n",
        "dp[0] = 0\n",
        "dp[1] = 0\n",
        "\n",
        "for i in range(2, x + 1):\n",
        "  dp[i] = 1 + dp[i - 1]\n",
        "  if not i % 5:\n",
        "    dp[i] = min(dp[i], 1 + dp[i // 5])\n",
        "  if not i % 3:\n",
        "    dp[i] = min(dp[i], 1 + dp[i // 3])\n",
        "  if not i % 2:\n",
        "    dp[i] = min(dp[i], 1 + dp[i // 2])\n",
        "print(dp[x])"
      ]
    }
  ]
}