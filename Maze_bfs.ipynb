{
  "nbformat": 4,
  "nbformat_minor": 0,
  "metadata": {
    "colab": {
      "name": "Untitled4.ipynb",
      "provenance": [],
      "collapsed_sections": [],
      "authorship_tag": "ABX9TyMIwd9ByfTkEBfypLeqeYMn",
      "include_colab_link": true
    },
    "kernelspec": {
      "name": "python3",
      "display_name": "Python 3"
    },
    "language_info": {
      "name": "python"
    }
  },
  "cells": [
    {
      "cell_type": "markdown",
      "metadata": {
        "id": "view-in-github",
        "colab_type": "text"
      },
      "source": [
        "<a href=\"https://colab.research.google.com/github/jukyung-j/BaekJoon/blob/master/Maze_bfs.ipynb\" target=\"_parent\"><img src=\"https://colab.research.google.com/assets/colab-badge.svg\" alt=\"Open In Colab\"/></a>"
      ]
    },
    {
      "cell_type": "code",
      "execution_count": 25,
      "metadata": {
        "colab": {
          "base_uri": "https://localhost:8080/"
        },
        "id": "kqakn-k7on4f",
        "outputId": "8c403969-68a2-4fcf-a5db-076302a2b2ec"
      },
      "outputs": [
        {
          "output_type": "stream",
          "name": "stdout",
          "text": [
            "세로, 가로 입력:4 4\n",
            "1 0 1 0\n",
            "1 0 1 1\n",
            "1 1 1 1\n",
            "1 1 1 1\n",
            "7\n"
          ]
        }
      ],
      "source": [
        "from collections import deque\n",
        "\n",
        "def bfs(graph, n, m, N, M):\n",
        "  dir = [[-1,0], [1,0], [0,-1], [0,1]]\n",
        "  queue = deque([[n, m]])\n",
        "  visited = [[False] * M for i in range(N)]\n",
        "  while queue:\n",
        "    a, b = queue.popleft()\n",
        "    visited[a][b] = True\n",
        "    for i, j in dir:\n",
        "      c, d = a + i, b + j\n",
        "      if -1 < c < N  and -1 < d < M:\n",
        "        if graph[c][d] and not visited[c][d]:\n",
        "          queue.append([c, d])\n",
        "          graph[c][d] += graph[a][b]\n",
        "          visited[c][d] = True                   \n",
        "    if c == N - 1 and d == M - 1:\n",
        "      print(graph[c][d])\n",
        "      break; \n",
        "    \n",
        "\n",
        "\n",
        "condition = True\n",
        "while condition:\n",
        "  N, M = map(int, input(\"세로, 가로 입력:\").split())\n",
        "  if N > 3 and M < 201:\n",
        "    condition = False\n",
        "\n",
        "graph = [list(map(int, input().split())) for _ in range(N)]\n",
        "\n",
        "bfs(graph, 0, 0, N, M)\n",
        "\n",
        "\n",
        "\n",
        "\n",
        " "
      ]
    }
  ]
}