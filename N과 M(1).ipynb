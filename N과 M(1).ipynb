{
  "nbformat": 4,
  "nbformat_minor": 0,
  "metadata": {
    "colab": {
      "name": "Untitled85.ipynb",
      "provenance": [],
      "authorship_tag": "ABX9TyOAUL8wMPmOxV7adOJSpfmH",
      "include_colab_link": true
    },
    "kernelspec": {
      "name": "python3",
      "display_name": "Python 3"
    },
    "language_info": {
      "name": "python"
    }
  },
  "cells": [
    {
      "cell_type": "markdown",
      "metadata": {
        "id": "view-in-github",
        "colab_type": "text"
      },
      "source": [
        "<a href=\"https://colab.research.google.com/github/jukyung-j/BaekJoon/blob/master/N%EA%B3%BC%20M(1).ipynb\" target=\"_parent\"><img src=\"https://colab.research.google.com/assets/colab-badge.svg\" alt=\"Open In Colab\"/></a>"
      ]
    },
    {
      "cell_type": "code",
      "execution_count": 2,
      "metadata": {
        "colab": {
          "base_uri": "https://localhost:8080/"
        },
        "id": "3SfRqZ5n4VMR",
        "outputId": "b656b9f1-ca89-4c7c-dbe0-38c150330421"
      },
      "outputs": [
        {
          "output_type": "stream",
          "name": "stdout",
          "text": [
            "4 2\n",
            "1 2 \n",
            "1 3 \n",
            "1 4 \n",
            "2 1 \n",
            "2 3 \n",
            "2 4 \n",
            "3 1 \n",
            "3 2 \n",
            "3 4 \n",
            "4 1 \n",
            "4 2 \n",
            "4 3 \n"
          ]
        }
      ],
      "source": [
        "def backtracking(start):\n",
        "  if start > m:   # 조건을 만족하면\n",
        "    for i in range(1, m + 1):\n",
        "      print(array[i], end=\" \")\n",
        "    print()\n",
        "  else:   # 조건을 만족하지 않는다면\n",
        "    for i in range(1, n + 1):\n",
        "      if not visited[i]:  # 방문하지 않았다면\n",
        "        visited[i] = True\n",
        "        array[start] = i\n",
        "        backtracking(start + 1)\n",
        "        visited[i] = False\n",
        "        array[start] = 0\n",
        "\n",
        "n, m = map(int, input().split())\n",
        "visited = [False] * (n + 1)\n",
        "array = [0] * (m + 1)\n",
        "backtracking(1)"
      ]
    }
  ]
}