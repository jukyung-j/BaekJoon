{
  "nbformat": 4,
  "nbformat_minor": 0,
  "metadata": {
    "colab": {
      "name": "Untitled86.ipynb",
      "provenance": [],
      "authorship_tag": "ABX9TyO2o0z0vr5/sFiuKTY9Zlqm",
      "include_colab_link": true
    },
    "kernelspec": {
      "name": "python3",
      "display_name": "Python 3"
    },
    "language_info": {
      "name": "python"
    }
  },
  "cells": [
    {
      "cell_type": "markdown",
      "metadata": {
        "id": "view-in-github",
        "colab_type": "text"
      },
      "source": [
        "<a href=\"https://colab.research.google.com/github/jukyung-j/BaekJoon/blob/master/N%EA%B3%BC%20M(2).ipynb\" target=\"_parent\"><img src=\"https://colab.research.google.com/assets/colab-badge.svg\" alt=\"Open In Colab\"/></a>"
      ]
    },
    {
      "cell_type": "code",
      "execution_count": 22,
      "metadata": {
        "colab": {
          "base_uri": "https://localhost:8080/"
        },
        "id": "6l1jPb2R6BJh",
        "outputId": "1a14262b-57e0-4e42-cf37-cac2a6c0a961"
      },
      "outputs": [
        {
          "output_type": "stream",
          "name": "stdout",
          "text": [
            "4 4\n",
            "1 2 3 4 \n"
          ]
        }
      ],
      "source": [
        "def check_duplicate(arr):   # 수열 중복 체크\n",
        "  all_array.append(arr)     \n",
        "  for i in range(len(all_array) - 1):\n",
        "    if all_array[i] == arr:\n",
        "      return False\n",
        "  return True\n",
        "\n",
        "def backtracking(start):\n",
        "  if start > m:\n",
        "    visit = visited[:]\n",
        "    if check_duplicate(visit):\n",
        "      for i in range(1, m + 1):\n",
        "        print(array[i], end= \" \")\n",
        "      print()\n",
        "  else:\n",
        "    for i in range(1, n + 1):\n",
        "      if not visited[i]:\n",
        "        visited[i] = True\n",
        "        array[start] = i\n",
        "        backtracking(start + 1)\n",
        "        array[start] = 0\n",
        "        visited[i] = False\n",
        "\n",
        "n, m = map(int, input().split())\n",
        "visited = [False] * (n + 1)\n",
        "array = [0] * (m + 1)\n",
        "all_array = []  # 수열의 중복을 체크하기 위해 visited된 list를 모두 저장\n",
        "backtracking(1)"
      ]
    }
  ]
}