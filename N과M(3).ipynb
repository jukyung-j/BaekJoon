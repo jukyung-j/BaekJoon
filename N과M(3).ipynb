{
  "nbformat": 4,
  "nbformat_minor": 0,
  "metadata": {
    "colab": {
      "name": "Untitled87.ipynb",
      "provenance": [],
      "authorship_tag": "ABX9TyOV04oN/M2cSGsQhY4cIG/V",
      "include_colab_link": true
    },
    "kernelspec": {
      "name": "python3",
      "display_name": "Python 3"
    },
    "language_info": {
      "name": "python"
    }
  },
  "cells": [
    {
      "cell_type": "markdown",
      "metadata": {
        "id": "view-in-github",
        "colab_type": "text"
      },
      "source": [
        "<a href=\"https://colab.research.google.com/github/jukyung-j/BaekJoon/blob/master/N%EA%B3%BCM(3).ipynb\" target=\"_parent\"><img src=\"https://colab.research.google.com/assets/colab-badge.svg\" alt=\"Open In Colab\"/></a>"
      ]
    },
    {
      "cell_type": "code",
      "execution_count": 3,
      "metadata": {
        "colab": {
          "base_uri": "https://localhost:8080/"
        },
        "id": "h3FJVfGXcc_6",
        "outputId": "b459300c-8cb0-48ec-cd2c-9717b7bb8185"
      },
      "outputs": [
        {
          "output_type": "stream",
          "name": "stdout",
          "text": [
            "3 3\n",
            "1 1 1 \n",
            "1 1 2 \n",
            "1 1 3 \n",
            "1 2 1 \n",
            "1 2 2 \n",
            "1 2 3 \n",
            "1 3 1 \n",
            "1 3 2 \n",
            "1 3 3 \n",
            "2 1 1 \n",
            "2 1 2 \n",
            "2 1 3 \n",
            "2 2 1 \n",
            "2 2 2 \n",
            "2 2 3 \n",
            "2 3 1 \n",
            "2 3 2 \n",
            "2 3 3 \n",
            "3 1 1 \n",
            "3 1 2 \n",
            "3 1 3 \n",
            "3 2 1 \n",
            "3 2 2 \n",
            "3 2 3 \n",
            "3 3 1 \n",
            "3 3 2 \n",
            "3 3 3 \n"
          ]
        }
      ],
      "source": [
        "def backtracking(start):\n",
        "  if start > m:\n",
        "    for i in range(1, m + 1):\n",
        "      print(arr[i], end = \" \")\n",
        "    print()\n",
        "  else:\n",
        "    for i in range(1, n + 1):\n",
        "      arr[start] = i\n",
        "      backtracking(start + 1)\n",
        "      arr[start] = 0\n",
        "\n",
        "n, m = map(int, input().split())\n",
        "arr = [0] * (m + 1)\n",
        "backtracking(1)"
      ]
    }
  ]
}