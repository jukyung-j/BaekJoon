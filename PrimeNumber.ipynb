{
  "nbformat": 4,
  "nbformat_minor": 0,
  "metadata": {
    "colab": {
      "name": "Untitled43.ipynb",
      "provenance": [],
      "collapsed_sections": [],
      "authorship_tag": "ABX9TyMlM024rEgwIx6R+vlGQtkd",
      "include_colab_link": true
    },
    "kernelspec": {
      "name": "python3",
      "display_name": "Python 3"
    },
    "language_info": {
      "name": "python"
    }
  },
  "cells": [
    {
      "cell_type": "markdown",
      "metadata": {
        "id": "view-in-github",
        "colab_type": "text"
      },
      "source": [
        "<a href=\"https://colab.research.google.com/github/jukyung-j/BaekJoon/blob/master/PrimeNumber.ipynb\" target=\"_parent\"><img src=\"https://colab.research.google.com/assets/colab-badge.svg\" alt=\"Open In Colab\"/></a>"
      ]
    },
    {
      "cell_type": "code",
      "execution_count": 3,
      "metadata": {
        "colab": {
          "base_uri": "https://localhost:8080/"
        },
        "id": "sitI6M_jXrn7",
        "outputId": "bcee7369-5160-4020-d8f5-99c5c6e42fec"
      },
      "outputs": [
        {
          "output_type": "stream",
          "name": "stdout",
          "text": [
            "1\n",
            "4\n",
            "0\n"
          ]
        }
      ],
      "source": [
        "n = int(input())\n",
        "number = map(int, input().split())\n",
        "count = n\n",
        "for n in number:\n",
        "  if n > 1:\n",
        "    for j in range(2, int(n ** (1/2)) + 1):  \n",
        "      if not n % j:  # 나누어 떨어지는게 있으면\n",
        "        count -= 1\n",
        "        break\n",
        "  else: count -= 1\n",
        "print(count)"
      ]
    }
  ]
}