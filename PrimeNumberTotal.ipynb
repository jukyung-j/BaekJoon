{
  "nbformat": 4,
  "nbformat_minor": 0,
  "metadata": {
    "colab": {
      "name": "Untitled46.ipynb",
      "provenance": [],
      "collapsed_sections": [],
      "authorship_tag": "ABX9TyM9CpOtI6Icag4RJ0lKG10N",
      "include_colab_link": true
    },
    "kernelspec": {
      "name": "python3",
      "display_name": "Python 3"
    },
    "language_info": {
      "name": "python"
    }
  },
  "cells": [
    {
      "cell_type": "markdown",
      "metadata": {
        "id": "view-in-github",
        "colab_type": "text"
      },
      "source": [
        "<a href=\"https://colab.research.google.com/github/jukyung-j/BaekJoon/blob/master/PrimeNumberTotal.ipynb\" target=\"_parent\"><img src=\"https://colab.research.google.com/assets/colab-badge.svg\" alt=\"Open In Colab\"/></a>"
      ]
    },
    {
      "cell_type": "code",
      "execution_count": 32,
      "metadata": {
        "colab": {
          "base_uri": "https://localhost:8080/"
        },
        "id": "yEJjgyu_o1YI",
        "outputId": "3a6150ad-f0b0-48d7-880c-842fc8de14fd"
      },
      "outputs": [
        {
          "output_type": "stream",
          "name": "stdout",
          "text": [
            "64\n",
            "65\n",
            "-1\n"
          ]
        }
      ],
      "source": [
        "m = int(input())\n",
        "n = int(input())\n",
        "is_prime = True\n",
        "count, total = 0, 0\n",
        "\n",
        "for i in range(m, n + 1):\n",
        "  if i > 1:\n",
        "    for j in range(2, int(i ** (1 / 2)) + 1):\n",
        "      if not i % j and i != j:  # 나누어 떨어지는게 있다면\n",
        "        is_prime = False\n",
        "        break\n",
        "      is_prime = True\n",
        "    if is_prime:\n",
        "      count += 1\n",
        "      total += i\n",
        "      if count == 1:\n",
        "        min_value = i\n",
        "\n",
        "if total == 0:\n",
        "  print(-1)\n",
        "else:\n",
        "  print(total)\n",
        "  print(min_value)"
      ]
    },
    {
      "cell_type": "markdown",
      "source": [
        ""
      ],
      "metadata": {
        "id": "W8SxIIbdp6JQ"
      }
    }
  ]
}