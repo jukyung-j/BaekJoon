{
  "nbformat": 4,
  "nbformat_minor": 0,
  "metadata": {
    "colab": {
      "name": "Untitled55.ipynb",
      "provenance": [],
      "collapsed_sections": [],
      "authorship_tag": "ABX9TyMusiMmMJtmKdUIqU0lhUBR",
      "include_colab_link": true
    },
    "kernelspec": {
      "name": "python3",
      "display_name": "Python 3"
    },
    "language_info": {
      "name": "python"
    }
  },
  "cells": [
    {
      "cell_type": "markdown",
      "metadata": {
        "id": "view-in-github",
        "colab_type": "text"
      },
      "source": [
        "<a href=\"https://colab.research.google.com/github/jukyung-j/BaekJoon/blob/master/Reverse.ipynb\" target=\"_parent\"><img src=\"https://colab.research.google.com/assets/colab-badge.svg\" alt=\"Open In Colab\"/></a>"
      ]
    },
    {
      "cell_type": "code",
      "execution_count": 124,
      "metadata": {
        "colab": {
          "base_uri": "https://localhost:8080/"
        },
        "id": "Cv3J0vLRY4bb",
        "outputId": "6c9613bd-c2b3-4ce6-d1ba-b76865876b5d"
      },
      "outputs": [
        {
          "output_type": "stream",
          "name": "stdout",
          "text": [
            "10001\n",
            "1\n"
          ]
        }
      ],
      "source": [
        "s = input()\n",
        "zero, one = 0, 0\n",
        "last = len(s) - 1\n",
        "for i in range(len(s) - 1):\n",
        "  if s[i] != s[i + 1]:\n",
        "    if s[i] == '0':\n",
        "      zero += 1\n",
        "    else: \n",
        "      one += 1\n",
        "\n",
        "if one != 0 or zero != 0:\n",
        "  if s[last] == '0':\n",
        "    zero += 1\n",
        "  else:\n",
        "    one += 1\n",
        "\n",
        "print(min(zero, one))"
      ]
    },
    {
      "cell_type": "code",
      "source": [
        ""
      ],
      "metadata": {
        "id": "oBKFw80Pjphp"
      },
      "execution_count": null,
      "outputs": []
    }
  ]
}