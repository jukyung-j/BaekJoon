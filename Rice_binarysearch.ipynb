{
  "nbformat": 4,
  "nbformat_minor": 0,
  "metadata": {
    "colab": {
      "name": "Untitled8.ipynb",
      "provenance": [],
      "collapsed_sections": [],
      "authorship_tag": "ABX9TyOX4KYY6dGgf+XXMmx8nnR9",
      "include_colab_link": true
    },
    "kernelspec": {
      "name": "python3",
      "display_name": "Python 3"
    },
    "language_info": {
      "name": "python"
    }
  },
  "cells": [
    {
      "cell_type": "markdown",
      "metadata": {
        "id": "view-in-github",
        "colab_type": "text"
      },
      "source": [
        "<a href=\"https://colab.research.google.com/github/jukyung-j/BaekJoon/blob/master/Rice_binarysearch.ipynb\" target=\"_parent\"><img src=\"https://colab.research.google.com/assets/colab-badge.svg\" alt=\"Open In Colab\"/></a>"
      ]
    },
    {
      "cell_type": "code",
      "execution_count": 8,
      "metadata": {
        "colab": {
          "base_uri": "https://localhost:8080/"
        },
        "id": "39pe-j3R4P2q",
        "outputId": "89b6508a-b504-4492-ec97-24ee93e1004f"
      },
      "outputs": [
        {
          "output_type": "stream",
          "name": "stdout",
          "text": [
            "4 6\n",
            "19 15 10 17\n",
            "15\n"
          ]
        }
      ],
      "source": [
        "def search(array, start, end):\n",
        "  if start > end: # 찾는 값이 없을 경우\n",
        "    return -1\n",
        "  mid = (start + end) // 2\n",
        "  result = 0\n",
        "  for i in array:\n",
        "    if i > mid:\n",
        "      result += i - mid\n",
        "  if result == m:\n",
        "    print(mid)\n",
        "  elif result > m:  # 설정한 길이의 합이 클때\n",
        "    search(array, mid + 1, end)\n",
        "  else : search(array,start, mid - 1) # 설정한 길이의 합이 작을때\n",
        "\n",
        "\n",
        "n, m = map(int, input().split())\n",
        "rice = list(map(int, input().split()))\n",
        "\n",
        "max = max(rice)\n",
        "search(rice, 0, max)\n"
      ]
    }
  ]
}