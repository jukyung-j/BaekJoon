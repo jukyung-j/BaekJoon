{
  "nbformat": 4,
  "nbformat_minor": 0,
  "metadata": {
    "colab": {
      "name": "Untitled58.ipynb",
      "provenance": [],
      "authorship_tag": "ABX9TyORFZd+aKLo8zzm2/+N2zSE",
      "include_colab_link": true
    },
    "kernelspec": {
      "name": "python3",
      "display_name": "Python 3"
    },
    "language_info": {
      "name": "python"
    }
  },
  "cells": [
    {
      "cell_type": "markdown",
      "metadata": {
        "id": "view-in-github",
        "colab_type": "text"
      },
      "source": [
        "<a href=\"https://colab.research.google.com/github/jukyung-j/BaekJoon/blob/master/RightAngleTriangle.ipynb\" target=\"_parent\"><img src=\"https://colab.research.google.com/assets/colab-badge.svg\" alt=\"Open In Colab\"/></a>"
      ]
    },
    {
      "cell_type": "code",
      "execution_count": 8,
      "metadata": {
        "colab": {
          "base_uri": "https://localhost:8080/"
        },
        "id": "cRpqoM77IddS",
        "outputId": "6b89757a-66fa-468a-e894-4d0b032cdea1"
      },
      "outputs": [
        {
          "name": "stdout",
          "output_type": "stream",
          "text": [
            "6 8 10\n",
            "right\n",
            "25 52 60\n",
            "wrong\n",
            "5 12 13\n",
            "right\n",
            "0 0 0\n"
          ]
        }
      ],
      "source": [
        "condition = True\n",
        "while condition:\n",
        "  x = list(map(int, input().split()))\n",
        "  if x == [0, 0, 0]:\n",
        "    condition = False\n",
        "    break\n",
        "  x.sort(reverse = True)\n",
        "  if x[0] ** 2 == x[1] ** 2 + x[2] ** 2:\n",
        "    print(\"right\")\n",
        "  else:\n",
        "    print(\"wrong\")"
      ]
    }
  ]
}