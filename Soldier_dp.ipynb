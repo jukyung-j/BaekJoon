{
  "nbformat": 4,
  "nbformat_minor": 0,
  "metadata": {
    "colab": {
      "name": "Untitled20.ipynb",
      "provenance": [],
      "authorship_tag": "ABX9TyPKP33uCtn+q7XRY7aBlhkr",
      "include_colab_link": true
    },
    "kernelspec": {
      "name": "python3",
      "display_name": "Python 3"
    },
    "language_info": {
      "name": "python"
    }
  },
  "cells": [
    {
      "cell_type": "markdown",
      "metadata": {
        "id": "view-in-github",
        "colab_type": "text"
      },
      "source": [
        "<a href=\"https://colab.research.google.com/github/jukyung-j/BaekJoon/blob/master/Soldier_dp.ipynb\" target=\"_parent\"><img src=\"https://colab.research.google.com/assets/colab-badge.svg\" alt=\"Open In Colab\"/></a>"
      ]
    },
    {
      "cell_type": "code",
      "execution_count": 14,
      "metadata": {
        "colab": {
          "base_uri": "https://localhost:8080/"
        },
        "id": "29F_1ukh35g1",
        "outputId": "c8f47194-44f1-484d-986e-a3a77f5fd6e1"
      },
      "outputs": [
        {
          "output_type": "stream",
          "name": "stdout",
          "text": [
            "7\n",
            "15 11 4 8 5 2 4\n",
            "2\n"
          ]
        }
      ],
      "source": [
        "# 가장 긴 증가하는 부분 수열(LIS)\n",
        "n = int(input())\n",
        "arr = list(map(int, input().split()))\n",
        "dp = [1] * n # dp에는 내림차순으로 정렬될 수 있는 최대 크기\n",
        "\n",
        "for i in range(1, n):\n",
        "  for j in range(i):  \n",
        "    if arr[i] < arr[j]: \n",
        "      dp[i] = max(dp[i], 1 + dp[j])   # 현재 값이 전에 값보다 작으면 저장\n",
        "\n",
        "print(n - dp[n - 1])\n",
        "#print(n - max(dp))"
      ]
    }
  ]
}