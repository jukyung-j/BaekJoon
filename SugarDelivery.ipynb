{
  "nbformat": 4,
  "nbformat_minor": 0,
  "metadata": {
    "colab": {
      "name": "Untitled42.ipynb",
      "provenance": [],
      "collapsed_sections": [],
      "authorship_tag": "ABX9TyMnpkcK9dCX6SnVMuvRbesE",
      "include_colab_link": true
    },
    "kernelspec": {
      "name": "python3",
      "display_name": "Python 3"
    },
    "language_info": {
      "name": "python"
    }
  },
  "cells": [
    {
      "cell_type": "markdown",
      "metadata": {
        "id": "view-in-github",
        "colab_type": "text"
      },
      "source": [
        "<a href=\"https://colab.research.google.com/github/jukyung-j/BaekJoon/blob/master/SugarDelivery.ipynb\" target=\"_parent\"><img src=\"https://colab.research.google.com/assets/colab-badge.svg\" alt=\"Open In Colab\"/></a>"
      ]
    },
    {
      "cell_type": "code",
      "execution_count": 18,
      "metadata": {
        "colab": {
          "base_uri": "https://localhost:8080/"
        },
        "id": "2DcptQIOQtle",
        "outputId": "2c18f14a-4269-4f62-ce5e-43b8a5039d4e"
      },
      "outputs": [
        {
          "output_type": "stream",
          "name": "stdout",
          "text": [
            "11\n",
            "3\n"
          ]
        }
      ],
      "source": [
        "n = int(input())\n",
        "five, three, num = 0, 0, 0\n",
        "five = n // 5\n",
        "while five > -1:\n",
        "  if not (n - (5 * five)) % 3:   # 3으로 나누어떨어진다면\n",
        "    three = (n - (5 * five)) // 3\n",
        "    break\n",
        "  else:\n",
        "    five -= 1\n",
        "print(five + three)\n"
      ]
    }
  ]
}