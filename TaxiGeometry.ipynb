{
  "nbformat": 4,
  "nbformat_minor": 0,
  "metadata": {
    "colab": {
      "name": "Untitled59.ipynb",
      "provenance": [],
      "authorship_tag": "ABX9TyM9O7L9Zq5xExKveraEoPBX",
      "include_colab_link": true
    },
    "kernelspec": {
      "name": "python3",
      "display_name": "Python 3"
    },
    "language_info": {
      "name": "python"
    }
  },
  "cells": [
    {
      "cell_type": "markdown",
      "metadata": {
        "id": "view-in-github",
        "colab_type": "text"
      },
      "source": [
        "<a href=\"https://colab.research.google.com/github/jukyung-j/BaekJoon/blob/master/TaxiGeometry.ipynb\" target=\"_parent\"><img src=\"https://colab.research.google.com/assets/colab-badge.svg\" alt=\"Open In Colab\"/></a>"
      ]
    },
    {
      "cell_type": "code",
      "execution_count": 5,
      "metadata": {
        "colab": {
          "base_uri": "https://localhost:8080/"
        },
        "id": "xBxHf3z9KngC",
        "outputId": "e85fd475-70e4-453a-b589-8481fb3b79b6"
      },
      "outputs": [
        {
          "output_type": "stream",
          "name": "stdout",
          "text": [
            "42\n",
            "5541.769440932395\n",
            "3528.0\n"
          ]
        }
      ],
      "source": [
        "import math\n",
        "r = float(input())\n",
        "euclid = r ** 2 * math.pi\n",
        "taxi = r ** 2 * 2\n",
        "print(euclid)\n",
        "print(taxi)"
      ]
    }
  ]
}