{
  "nbformat": 4,
  "nbformat_minor": 0,
  "metadata": {
    "colab": {
      "name": "Untitled25.ipynb",
      "provenance": [],
      "collapsed_sections": [],
      "authorship_tag": "ABX9TyOQ5y+7jp6CcOsBFrc13kyu",
      "include_colab_link": true
    },
    "kernelspec": {
      "name": "python3",
      "display_name": "Python 3"
    },
    "language_info": {
      "name": "python"
    }
  },
  "cells": [
    {
      "cell_type": "markdown",
      "metadata": {
        "id": "view-in-github",
        "colab_type": "text"
      },
      "source": [
        "<a href=\"https://colab.research.google.com/github/jukyung-j/BaekJoon/blob/master/Telegram.ipynb\" target=\"_parent\"><img src=\"https://colab.research.google.com/assets/colab-badge.svg\" alt=\"Open In Colab\"/></a>"
      ]
    },
    {
      "cell_type": "code",
      "execution_count": 2,
      "metadata": {
        "colab": {
          "base_uri": "https://localhost:8080/"
        },
        "id": "xaGK94DQmJhv",
        "outputId": "459f27d8-b4db-447a-9b06-7536dbe5489e"
      },
      "outputs": [
        {
          "output_type": "stream",
          "name": "stdout",
          "text": [
            "3 2 1\n",
            "1 2 4\n",
            "1 3 2\n",
            "2\n",
            "4\n"
          ]
        }
      ],
      "source": [
        "import heapq\n",
        "\n",
        "def dijkstra(start):\n",
        "  q = []\n",
        "  # 시작 노드로 가기 위한 최단 거리는 0으로  설정하여, 큐에 삽입\n",
        "  distance[start] = 0\n",
        "  heapq.heappush(q, (0, start))\n",
        "  while q:  # 큐가 비어있지 않다면\n",
        "    #가장 최단 거리가 짧은 노드에 대한 정보를 꺼내기\n",
        "    dist, now = heapq.heappop(q)\n",
        "    if distance[now] < dist:\n",
        "      continue\n",
        "    # 현재 노드와 연결된 다른 인접한 노드들을 확인\n",
        "    for i in graph[now]:\n",
        "      cost = dist + i[1]\n",
        "      # 현재 노드를 거쳐서, 다른 노드로 이동하는 거리가 더 짧은 경우\n",
        "      if cost < distance[i[0]]:\n",
        "        distance[i[0]] = cost\n",
        "        heapq.heappush(q, (cost, i[0]))\n",
        "\n",
        "\n",
        "INF = int(1e9)  # 무한을 의미하는 값으로 10억을 설정\n",
        "# 노드의 개수, 간선의 개수, 시작 노드를 입력받기\n",
        "n, m, c = map(int, input().split())\n",
        "# 각 노드에 연결되어 있는 노드에 대한 정보를 담는 리스트를 만들기\n",
        "graph = [[] for _ in range(n + 1)]\n",
        "# 최단 거리 테이블을 모두 무한으로 초기화\n",
        "distance = [INF] * (n + 1)\n",
        "\n",
        "# 모든 간선 정보를 입력받기\n",
        "for _ in range(m):\n",
        "  x, y, z = map(int, input().split())\n",
        "  # x번 노드에서 y번 노드로 가는 비용이 z라는 의미\n",
        "  graph[x].append((y, z))\n",
        "\n",
        "# 다익스트라 알고리즘을 수행\n",
        "dijkstra(c)\n",
        "\n",
        "# 도달할 수 있는 노드의 개수, 도달할 수 있는 노드 중에서, 가장 많이 있는 노드와의 최단거리\n",
        "total_city, total_time = 0, 0\n",
        "for d in distance:\n",
        "  # 도달할 수 있는 노드인 경우\n",
        "  if d != INF:\n",
        "    total_city += 1\n",
        "    total_time = max(total_time, d)\n",
        "\n",
        "# 시작 노드는 제외해야 하므로 total_city - 1을 출력\n",
        "print(total_city - 1, total_time)\n",
        "        "
      ]
    }
  ]
}