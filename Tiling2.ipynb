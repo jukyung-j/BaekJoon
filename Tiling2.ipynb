{
  "nbformat": 4,
  "nbformat_minor": 0,
  "metadata": {
    "colab": {
      "name": "Untitled22.ipynb",
      "provenance": [],
      "authorship_tag": "ABX9TyNM9yLDq8rC4nBbBhhyOv8t",
      "include_colab_link": true
    },
    "kernelspec": {
      "name": "python3",
      "display_name": "Python 3"
    },
    "language_info": {
      "name": "python"
    }
  },
  "cells": [
    {
      "cell_type": "markdown",
      "metadata": {
        "id": "view-in-github",
        "colab_type": "text"
      },
      "source": [
        "<a href=\"https://colab.research.google.com/github/jukyung-j/BaekJoon/blob/master/Tiling2.ipynb\" target=\"_parent\"><img src=\"https://colab.research.google.com/assets/colab-badge.svg\" alt=\"Open In Colab\"/></a>"
      ]
    },
    {
      "cell_type": "code",
      "execution_count": 3,
      "metadata": {
        "colab": {
          "base_uri": "https://localhost:8080/"
        },
        "id": "GMwLJOZ7RYu4",
        "outputId": "864962ea-1462-436d-d1e2-ce01de37bf34"
      },
      "outputs": [
        {
          "output_type": "stream",
          "name": "stdout",
          "text": [
            "12\n",
            "2731\n"
          ]
        }
      ],
      "source": [
        "n = int(input())\n",
        "d = [0] * (n + 1)\n",
        "d[0], d[1] = 1, 1\n",
        "for i in range(2, n + 1):\n",
        "  d[i] = d[i - 1] + d[i - 2] * 2\n",
        "print(d[n] % 10007)\n"
      ]
    }
  ]
}