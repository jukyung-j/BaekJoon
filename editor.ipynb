{
  "nbformat": 4,
  "nbformat_minor": 0,
  "metadata": {
    "colab": {
      "name": "Untitled12.ipynb",
      "provenance": [],
      "collapsed_sections": [],
      "authorship_tag": "ABX9TyOpI/HAQ0vAQdK8pNboTGmZ",
      "include_colab_link": true
    },
    "kernelspec": {
      "name": "python3",
      "display_name": "Python 3"
    },
    "language_info": {
      "name": "python"
    }
  },
  "cells": [
    {
      "cell_type": "markdown",
      "metadata": {
        "id": "view-in-github",
        "colab_type": "text"
      },
      "source": [
        "<a href=\"https://colab.research.google.com/github/jukyung-j/BaekJoon/blob/master/editor.ipynb\" target=\"_parent\"><img src=\"https://colab.research.google.com/assets/colab-badge.svg\" alt=\"Open In Colab\"/></a>"
      ]
    },
    {
      "cell_type": "code",
      "execution_count": 59,
      "metadata": {
        "colab": {
          "base_uri": "https://localhost:8080/"
        },
        "id": "w2-4VLpx0Mlt",
        "outputId": "8740cbe9-c0f0-4c7e-8306-ca209a729ce5"
      },
      "outputs": [
        {
          "output_type": "stream",
          "name": "stdout",
          "text": [
            "dmih\n",
            "11\n",
            "B\n",
            "B\n",
            "P x\n",
            "L\n",
            "B\n",
            "B\n",
            "B\n",
            "P y\n",
            "D\n",
            "D\n",
            "P z\n",
            "4\n",
            "3\n",
            "1\n",
            "dyxz\n"
          ]
        }
      ],
      "source": [
        "string = input()\n",
        "n = int(input())\n",
        "order = [0] * n\n",
        "for i in range(n):\n",
        "  order[i] = input()\n",
        "\n",
        "cursor = len(string)\n",
        "\n",
        "for o in order:\n",
        "  if o == 'L':\n",
        "    if cursor > -1:\n",
        "      cursor -= 1\n",
        "  elif o == 'D':\n",
        "    if cursor < len(string):\n",
        "      cursor += 1\n",
        "  elif o == 'B':\n",
        "    if cursor > -1:\n",
        "      cursor -= 1\n",
        "      string = string[:cursor - 1] + string[cursor + 1:]\n",
        "\n",
        "  elif \"P\" in o:\n",
        "    string = string[0:cursor + 1] + o[2] + string[cursor + 1:]\n",
        "  else:\n",
        "    print(\"잘못된 입력\")\n",
        "\n",
        "print(string)"
      ]
    },
    {
      "cell_type": "code",
      "source": [
        ""
      ],
      "metadata": {
        "id": "FZ-obOrW_ZYe"
      },
      "execution_count": null,
      "outputs": []
    }
  ]
}