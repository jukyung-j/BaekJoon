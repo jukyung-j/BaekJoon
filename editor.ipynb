{
  "nbformat": 4,
  "nbformat_minor": 0,
  "metadata": {
    "colab": {
      "name": "Untitled13.ipynb",
      "provenance": [],
      "collapsed_sections": [],
      "authorship_tag": "ABX9TyPb3gckiC/TbgjklSjK9UOp",
      "include_colab_link": true
    },
    "kernelspec": {
      "name": "python3",
      "display_name": "Python 3"
    },
    "language_info": {
      "name": "python"
    }
  },
  "cells": [
    {
      "cell_type": "markdown",
      "metadata": {
        "id": "view-in-github",
        "colab_type": "text"
      },
      "source": [
        "<a href=\"https://colab.research.google.com/github/jukyung-j/BaekJoon/blob/master/editor.ipynb\" target=\"_parent\"><img src=\"https://colab.research.google.com/assets/colab-badge.svg\" alt=\"Open In Colab\"/></a>"
      ]
    },
    {
      "cell_type": "code",
      "execution_count": 30,
      "metadata": {
        "colab": {
          "base_uri": "https://localhost:8080/"
        },
        "id": "IhtwqdY-WbII",
        "outputId": "b83f2cf4-b2a8-44ca-f582-c37928591881"
      },
      "outputs": [
        {
          "output_type": "stream",
          "name": "stdout",
          "text": [
            "dmih\n",
            "11\n",
            "B\n",
            "B\n",
            "P x\n",
            "L\n",
            "B\n",
            "B\n",
            "B\n",
            "P y\n",
            "D\n",
            "D\n",
            "P z\n",
            "yxz"
          ]
        }
      ],
      "source": [
        "s1 = list(input())\n",
        "n = int(input())\n",
        "s2 = []\n",
        "order = [0] * n\n",
        "for i in range(n):\n",
        "  order[i] = input()\n",
        "\n",
        "for o in order:\n",
        "  if o == 'L' and s1 != []:\n",
        "    s2.append(s1.pop())\n",
        "  elif o == 'D' and s2 != []:\n",
        "    s1.append(s2.pop())\n",
        "  elif o == 'B' and s1 != []:\n",
        "    s1.pop()\n",
        "  elif \"P\" in o:\n",
        "    s1.append(o[2])\n",
        "s2.reverse()\n",
        "for s in s1 + s2:\n",
        "  print(s,end=\"\")"
      ]
    },
    {
      "cell_type": "code",
      "source": [
        ""
      ],
      "metadata": {
        "id": "OoigMHrDXO3P"
      },
      "execution_count": null,
      "outputs": []
    }
  ]
}