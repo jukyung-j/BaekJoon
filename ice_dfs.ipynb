{
  "nbformat": 4,
  "nbformat_minor": 0,
  "metadata": {
    "colab": {
      "name": "Untitled3.ipynb",
      "provenance": [],
      "collapsed_sections": [],
      "authorship_tag": "ABX9TyNGgnsBiu2XYJMFd1e+OVAD",
      "include_colab_link": true
    },
    "kernelspec": {
      "name": "python3",
      "display_name": "Python 3"
    },
    "language_info": {
      "name": "python"
    }
  },
  "cells": [
    {
      "cell_type": "markdown",
      "metadata": {
        "id": "view-in-github",
        "colab_type": "text"
      },
      "source": [
        "<a href=\"https://colab.research.google.com/github/jukyung-j/BaekJoon/blob/master/ice_dfs.ipynb\" target=\"_parent\"><img src=\"https://colab.research.google.com/assets/colab-badge.svg\" alt=\"Open In Colab\"/></a>"
      ]
    },
    {
      "cell_type": "code",
      "execution_count": 35,
      "metadata": {
        "colab": {
          "base_uri": "https://localhost:8080/"
        },
        "id": "uMTgE1BZR1xV",
        "outputId": "31489159-b01f-441a-b635-9fc75b15f09f"
      },
      "outputs": [
        {
          "output_type": "stream",
          "name": "stdout",
          "text": [
            "세로와 가로를 입력:4 5\n",
            "0 0 1 1 0\n",
            "0 0 0 1 1\n",
            "1 1 1 1 1\n",
            "0 0 0 0 0\n",
            "3\n"
          ]
        }
      ],
      "source": [
        "global count\n",
        "count = 0\n",
        "def dfs(graph, i, j, visited):\n",
        "  if visited[i][j] or graph[i][j]:\n",
        "    return\n",
        "  visited[i][j] = True\n",
        "  global count\n",
        "  dir = [[-1,0],[1,0],[0,-1],[0,1]] # 상 하 좌 우\n",
        "  \n",
        "  n, m = i, j\n",
        "  for a,b in dir:\n",
        "      n = a + i\n",
        "      m = b + j\n",
        "      if -1 < n < N and -1 < m < M:\n",
        "        if not(visited[n][m] or graph[n][m]):\n",
        "          dfs(graph, n, m, visited)\n",
        "  return 1\n",
        "    \n",
        "\n",
        "N, M = map(int, input(\"세로와 가로를 입력:\").split())\n",
        "graph = [list(map(int, input().split())) for _ in range(N)]\n",
        "visited = [[False] * M for i in range(N)]\n",
        "for i in range(N):\n",
        "  for j in range(M):\n",
        "    if dfs(graph, i, j, visited) is not None:\n",
        "      count += 1\n",
        "print(count)"
      ]
    }
  ]
}