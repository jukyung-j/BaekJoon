{
  "nbformat": 4,
  "nbformat_minor": 0,
  "metadata": {
    "colab": {
      "name": "Untitled35.ipynb",
      "provenance": [],
      "collapsed_sections": [],
      "authorship_tag": "ABX9TyMcPeiqO+QMk9vycCzzF7Nd",
      "include_colab_link": true
    },
    "kernelspec": {
      "name": "python3",
      "display_name": "Python 3"
    },
    "language_info": {
      "name": "python"
    }
  },
  "cells": [
    {
      "cell_type": "markdown",
      "metadata": {
        "id": "view-in-github",
        "colab_type": "text"
      },
      "source": [
        "<a href=\"https://colab.research.google.com/github/jukyung-j/BaekJoon/blob/master/%EA%B5%AC%EA%B0%84%ED%95%A9.ipynb\" target=\"_parent\"><img src=\"https://colab.research.google.com/assets/colab-badge.svg\" alt=\"Open In Colab\"/></a>"
      ]
    },
    {
      "cell_type": "code",
      "execution_count": 1,
      "metadata": {
        "colab": {
          "base_uri": "https://localhost:8080/"
        },
        "id": "nMvux7aHGN0l",
        "outputId": "558d9e5d-311e-41c1-dc5b-6056b49c7767"
      },
      "outputs": [
        {
          "output_type": "stream",
          "name": "stdout",
          "text": [
            "70\n"
          ]
        }
      ],
      "source": [
        "# 구간 합 빠르게 계산\n",
        "\n",
        "# 데이터의 개수 N과 데이터 입력받기\n",
        "n = 5\n",
        "data = [10, 20, 30, 40, 50]\n",
        "\n",
        "# 접두사 합(Prefix Sum) 배열 계산\n",
        "sum_value = 0\n",
        "prefix_sum = [0]\n",
        "for i in data:\n",
        "  sum_value += i\n",
        "  prefix_sum.append(sum_value)\n",
        "\n",
        "# 구간 합 계산(세 번째 수부터 네 번째 수까지)\n",
        "left = 3\n",
        "right = 4\n",
        "print(prefix_sum[right] - prefix_sum[left - 1])"
      ]
    }
  ]
}