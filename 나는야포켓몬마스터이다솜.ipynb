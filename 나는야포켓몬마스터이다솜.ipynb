{
  "nbformat": 4,
  "nbformat_minor": 0,
  "metadata": {
    "colab": {
      "name": "Untitled128.ipynb",
      "provenance": [],
      "authorship_tag": "ABX9TyPZMu3riZ7rUrWiQEBwe3PG",
      "include_colab_link": true
    },
    "kernelspec": {
      "name": "python3",
      "display_name": "Python 3"
    },
    "language_info": {
      "name": "python"
    }
  },
  "cells": [
    {
      "cell_type": "markdown",
      "metadata": {
        "id": "view-in-github",
        "colab_type": "text"
      },
      "source": [
        "<a href=\"https://colab.research.google.com/github/jukyung-j/BaekJoon/blob/master/%EB%82%98%EB%8A%94%EC%95%BC%ED%8F%AC%EC%BC%93%EB%AA%AC%EB%A7%88%EC%8A%A4%ED%84%B0%EC%9D%B4%EB%8B%A4%EC%86%9C.ipynb\" target=\"_parent\"><img src=\"https://colab.research.google.com/assets/colab-badge.svg\" alt=\"Open In Colab\"/></a>"
      ]
    },
    {
      "cell_type": "code",
      "execution_count": 19,
      "metadata": {
        "colab": {
          "base_uri": "https://localhost:8080/"
        },
        "id": "Jq2nBNDdEev3",
        "outputId": "c2b65302-ea54-4119-9eb0-9c5d79b69c5e"
      },
      "outputs": [
        {
          "output_type": "stream",
          "name": "stdout",
          "text": [
            "1 1\n",
            "a\n",
            "a\n",
            "1\n"
          ]
        }
      ],
      "source": [
        "n, m = map(int, input().split())\n",
        "pok = {i+1:input() for i in range(n)}\n",
        "value_pok = {v:k for k, v in pok.items()}\n",
        "target = [input() for _ in range(m)]\n",
        "for i in range(m):\n",
        "  if target[i].isdigit():\n",
        "    num = int(target[i])\n",
        "    print(pok[num])\n",
        "  else:\n",
        "    print(value_pok[target[i]])"
      ]
    }
  ]
}