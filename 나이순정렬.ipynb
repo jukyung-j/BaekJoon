{
  "nbformat": 4,
  "nbformat_minor": 0,
  "metadata": {
    "colab": {
      "name": "Untitled82.ipynb",
      "provenance": [],
      "authorship_tag": "ABX9TyOzMg3FSPGDh92xGjNEACgW",
      "include_colab_link": true
    },
    "kernelspec": {
      "name": "python3",
      "display_name": "Python 3"
    },
    "language_info": {
      "name": "python"
    }
  },
  "cells": [
    {
      "cell_type": "markdown",
      "metadata": {
        "id": "view-in-github",
        "colab_type": "text"
      },
      "source": [
        "<a href=\"https://colab.research.google.com/github/jukyung-j/BaekJoon/blob/master/%EB%82%98%EC%9D%B4%EC%88%9C%EC%A0%95%EB%A0%AC.ipynb\" target=\"_parent\"><img src=\"https://colab.research.google.com/assets/colab-badge.svg\" alt=\"Open In Colab\"/></a>"
      ]
    },
    {
      "cell_type": "code",
      "execution_count": 24,
      "metadata": {
        "colab": {
          "base_uri": "https://localhost:8080/"
        },
        "id": "UIOsWv11uRYq",
        "outputId": "92182247-2a7c-443e-9d57-7563c1644427"
      },
      "outputs": [
        {
          "output_type": "stream",
          "name": "stdout",
          "text": [
            "3\n",
            "21 J\n",
            "21 D\n",
            "20 S\n",
            "20 S\n",
            "21 J\n",
            "21 D\n"
          ]
        }
      ],
      "source": [
        "n = int(input())\n",
        "member = []\n",
        "for i in range(n):\n",
        "  age, name = input().split()\n",
        "  age = int(age)\n",
        "  member.append([age, name])\n",
        "member.sort(key = lambda x: x[0])\n",
        "for i in member:\n",
        "  print(i[0], i[1])"
      ]
    }
  ]
}