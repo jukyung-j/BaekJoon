{
  "nbformat": 4,
  "nbformat_minor": 0,
  "metadata": {
    "colab": {
      "name": "Untitled119.ipynb",
      "provenance": [],
      "authorship_tag": "ABX9TyOkhU+PFIJzwWvs8KgBUmBi",
      "include_colab_link": true
    },
    "kernelspec": {
      "name": "python3",
      "display_name": "Python 3"
    },
    "language_info": {
      "name": "python"
    }
  },
  "cells": [
    {
      "cell_type": "markdown",
      "metadata": {
        "id": "view-in-github",
        "colab_type": "text"
      },
      "source": [
        "<a href=\"https://colab.research.google.com/github/jukyung-j/BaekJoon/blob/master/%EB%A7%81.ipynb\" target=\"_parent\"><img src=\"https://colab.research.google.com/assets/colab-badge.svg\" alt=\"Open In Colab\"/></a>"
      ]
    },
    {
      "cell_type": "code",
      "execution_count": 3,
      "metadata": {
        "colab": {
          "base_uri": "https://localhost:8080/"
        },
        "id": "71RIpPItZU0G",
        "outputId": "0f41e3eb-a9c8-481d-c210-160800f2b630"
      },
      "outputs": [
        {
          "output_type": "stream",
          "name": "stdout",
          "text": [
            "4\n",
            "12 3 8 4\n",
            "4/1\n",
            "3/2\n",
            "3/1\n"
          ]
        }
      ],
      "source": [
        "def uclid(a, b):\n",
        "  rest = 1\n",
        "  while rest:\n",
        "    rest = a % b\n",
        "    a = b\n",
        "    b = rest\n",
        "  return a\n",
        "\n",
        "n = int(input())\n",
        "num = list(map(int, input().split()))\n",
        "for i in range(1, n):\n",
        "  result = uclid(num[0], num[i])\n",
        "  print(f\"{num[0] // result}/{num[i] // result}\")"
      ]
    },
    {
      "cell_type": "code",
      "source": [
        ""
      ],
      "metadata": {
        "id": "mbG0rWC2dTAr"
      },
      "execution_count": null,
      "outputs": []
    }
  ]
}