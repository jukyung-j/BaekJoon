{
  "nbformat": 4,
  "nbformat_minor": 0,
  "metadata": {
    "colab": {
      "name": "Untitled63.ipynb",
      "provenance": [],
      "collapsed_sections": [],
      "authorship_tag": "ABX9TyNStjlAXgbYUx8JR2e1FdKn",
      "include_colab_link": true
    },
    "kernelspec": {
      "name": "python3",
      "display_name": "Python 3"
    },
    "language_info": {
      "name": "python"
    }
  },
  "cells": [
    {
      "cell_type": "markdown",
      "metadata": {
        "id": "view-in-github",
        "colab_type": "text"
      },
      "source": [
        "<a href=\"https://colab.research.google.com/github/jukyung-j/BaekJoon/blob/master/%EB%AC%B4%EC%A7%80%EC%9D%98%EB%A8%B9%EB%B0%A9%EB%9D%BC%EC%9D%B4%EB%B8%8C.ipynb\" target=\"_parent\"><img src=\"https://colab.research.google.com/assets/colab-badge.svg\" alt=\"Open In Colab\"/></a>"
      ]
    },
    {
      "cell_type": "code",
      "execution_count": 18,
      "metadata": {
        "colab": {
          "base_uri": "https://localhost:8080/",
          "height": 226
        },
        "id": "SpCwjJrztvXH",
        "outputId": "8052d260-280f-4f8b-ada7-e3c76bd8f2cd"
      },
      "outputs": [
        {
          "output_type": "error",
          "ename": "TypeError",
          "evalue": "ignored",
          "traceback": [
            "\u001b[0;31m---------------------------------------------------------------------------\u001b[0m",
            "\u001b[0;31mTypeError\u001b[0m                                 Traceback (most recent call last)",
            "\u001b[0;32m<ipython-input-18-2ee4df02d845>\u001b[0m in \u001b[0;36m<module>\u001b[0;34m()\u001b[0m\n\u001b[1;32m     14\u001b[0m \u001b[0mfood_times\u001b[0m \u001b[0;34m=\u001b[0m \u001b[0;34m[\u001b[0m\u001b[0;36m3\u001b[0m\u001b[0;34m,\u001b[0m \u001b[0;36m1\u001b[0m\u001b[0;34m,\u001b[0m \u001b[0;36m2\u001b[0m\u001b[0;34m]\u001b[0m\u001b[0;34m\u001b[0m\u001b[0;34m\u001b[0m\u001b[0m\n\u001b[1;32m     15\u001b[0m \u001b[0mk\u001b[0m \u001b[0;34m=\u001b[0m \u001b[0;36m5\u001b[0m\u001b[0;34m\u001b[0m\u001b[0;34m\u001b[0m\u001b[0m\n\u001b[0;32m---> 16\u001b[0;31m \u001b[0mprint\u001b[0m\u001b[0;34m(\u001b[0m\u001b[0mfood_times\u001b[0m \u001b[0;34m-\u001b[0m \u001b[0;34m[\u001b[0m\u001b[0;36m1\u001b[0m\u001b[0;34m]\u001b[0m\u001b[0;34m)\u001b[0m\u001b[0;34m\u001b[0m\u001b[0;34m\u001b[0m\u001b[0m\n\u001b[0m\u001b[1;32m     17\u001b[0m \u001b[0;31m# solution(food_times, k)\u001b[0m\u001b[0;34m\u001b[0m\u001b[0;34m\u001b[0m\u001b[0;34m\u001b[0m\u001b[0m\n",
            "\u001b[0;31mTypeError\u001b[0m: unsupported operand type(s) for -: 'list' and 'list'"
          ]
        }
      ],
      "source": [
        "import heapq\n",
        "\n",
        "def solution(food_times, k):\n",
        "  # 전체 음식을 먹는 시간보다 k가 크거나 같다면 -1\n",
        "  if sum(food_times) <= k:\n",
        "    return -1\n",
        "  \n",
        "  # 시간이 작은 음식부터 빼야 하므로 우선순위 큐를 사용\n",
        "  q = []\n",
        "  for i in range(len(food_times)):\n",
        "    # (음식 시간, 음식 번호) 형태로 우선순위 큐에 삽입\n",
        "    heapq.heappush(q, (food_times[i], i + 1))\n",
        "\n",
        "  sum_value = 0   # 먹기 위해 사용한 시간\n",
        "  previous = 0    # 직전에 다 먹은 시간\n",
        "\n",
        "  length = len(food_times)  # 남은 음식 개수\n",
        "\n",
        "  # sum_value + (현재의 음식 시간 - 이전 음식 시간) * 현재 음식 개수와 k 비교\n",
        "  while sum_value + ((q[0][0] - previous) * length):\n",
        "    now = heapq.heappop(q)[0]\n",
        "    sum_value += (now - previous) * length\n",
        "    length -= 1   # 다먹은 음식 제외\n",
        "    previous = now    # 이전 음식 시간 재설정\n",
        "\n",
        "  # 남은 음식 중에서 몇 번째 음식인지 확인하여 출력\n",
        "  result = sorted(q, key = lambda x: x[1])  # 음식의 번호 기준으로 정렬\n",
        "  return result[(k - sum_value) % length][1] "
      ]
    }
  ]
}