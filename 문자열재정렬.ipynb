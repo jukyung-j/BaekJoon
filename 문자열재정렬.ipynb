{
  "nbformat": 4,
  "nbformat_minor": 0,
  "metadata": {
    "colab": {
      "name": "Untitled70.ipynb",
      "provenance": [],
      "collapsed_sections": [],
      "authorship_tag": "ABX9TyOcTdnpiwOFu/ghg5hRbXdt",
      "include_colab_link": true
    },
    "kernelspec": {
      "name": "python3",
      "display_name": "Python 3"
    },
    "language_info": {
      "name": "python"
    }
  },
  "cells": [
    {
      "cell_type": "markdown",
      "metadata": {
        "id": "view-in-github",
        "colab_type": "text"
      },
      "source": [
        "<a href=\"https://colab.research.google.com/github/jukyung-j/BaekJoon/blob/master/%EB%AC%B8%EC%9E%90%EC%97%B4%EC%9E%AC%EC%A0%95%EB%A0%AC.ipynb\" target=\"_parent\"><img src=\"https://colab.research.google.com/assets/colab-badge.svg\" alt=\"Open In Colab\"/></a>"
      ]
    },
    {
      "cell_type": "code",
      "execution_count": 22,
      "metadata": {
        "colab": {
          "base_uri": "https://localhost:8080/"
        },
        "id": "KlQiEYTn7RLg",
        "outputId": "322e2ed8-3cef-4b11-bbdc-297e89a60668"
      },
      "outputs": [
        {
          "output_type": "stream",
          "name": "stdout",
          "text": [
            "K1KA5CB7\n",
            "ABCKK13\n"
          ]
        }
      ],
      "source": [
        "string = input()\n",
        "num = 0\n",
        "result = []\n",
        "for c in string:\n",
        "  if c.isalpha():\n",
        "    result.append(c)\n",
        "  else:\n",
        "    num += int(c)\n",
        "result.sort()\n",
        "if num != 0:\n",
        "  result.append(str(num))\n",
        "\n",
        "print(''.join(result))\n"
      ]
    }
  ]
}