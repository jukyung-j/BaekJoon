{
  "nbformat": 4,
  "nbformat_minor": 0,
  "metadata": {
    "colab": {
      "name": "Untitled127.ipynb",
      "provenance": [],
      "authorship_tag": "ABX9TyOKD5wuEnICCxrM/kaTaWex",
      "include_colab_link": true
    },
    "kernelspec": {
      "name": "python3",
      "display_name": "Python 3"
    },
    "language_info": {
      "name": "python"
    }
  },
  "cells": [
    {
      "cell_type": "markdown",
      "metadata": {
        "id": "view-in-github",
        "colab_type": "text"
      },
      "source": [
        "<a href=\"https://colab.research.google.com/github/jukyung-j/BaekJoon/blob/master/%EB%AC%B8%EC%9E%90%EC%97%B4%EC%A7%91%ED%95%A9.ipynb\" target=\"_parent\"><img src=\"https://colab.research.google.com/assets/colab-badge.svg\" alt=\"Open In Colab\"/></a>"
      ]
    },
    {
      "cell_type": "code",
      "execution_count": 3,
      "metadata": {
        "colab": {
          "base_uri": "https://localhost:8080/"
        },
        "id": "e3ZUX8vCNvBv",
        "outputId": "0381084c-1e9b-49c7-e70f-682c4610080a"
      },
      "outputs": [
        {
          "output_type": "stream",
          "name": "stdout",
          "text": [
            "2 2\n",
            "abde\n",
            "ddd\n",
            "ab\n",
            "ddd\n",
            "1\n"
          ]
        }
      ],
      "source": [
        "n, m = map(int, input().split())\n",
        "array = [input() for _ in range(n)]\n",
        "target = [input() for _ in range(m)]\n",
        "count = 0\n",
        "for t in target:\n",
        "  if t in array:\n",
        "    count += 1\n",
        "print(count)"
      ]
    }
  ]
}