{
  "nbformat": 4,
  "nbformat_minor": 0,
  "metadata": {
    "colab": {
      "name": "Untitled67.ipynb",
      "provenance": [],
      "authorship_tag": "ABX9TyMknWDcLVa+/IwccYTZnRDR",
      "include_colab_link": true
    },
    "kernelspec": {
      "name": "python3",
      "display_name": "Python 3"
    },
    "language_info": {
      "name": "python"
    }
  },
  "cells": [
    {
      "cell_type": "markdown",
      "metadata": {
        "id": "view-in-github",
        "colab_type": "text"
      },
      "source": [
        "<a href=\"https://colab.research.google.com/github/jukyung-j/BaekJoon/blob/master/%EB%B6%84%ED%95%B4%ED%95%A9.ipynb\" target=\"_parent\"><img src=\"https://colab.research.google.com/assets/colab-badge.svg\" alt=\"Open In Colab\"/></a>"
      ]
    },
    {
      "cell_type": "code",
      "execution_count": 13,
      "metadata": {
        "colab": {
          "base_uri": "https://localhost:8080/"
        },
        "id": "E5Ezw43cgGQK",
        "outputId": "b8cf97b2-f301-4206-85c7-4b92a3e4bb93"
      },
      "outputs": [
        {
          "output_type": "stream",
          "name": "stdout",
          "text": [
            "256\n",
            "245\n"
          ]
        }
      ],
      "source": [
        "n = int(input())\n",
        "m = 0\n",
        "condition = True\n",
        "while condition:\n",
        "  apart = [int(s) for s in str(m)]\n",
        "  if m + sum(apart) == n:\n",
        "    print(m)\n",
        "    condition = False\n",
        "    break\n",
        "  if m > n:\n",
        "    print(0)\n",
        "    condition = False\n",
        "    break\n",
        "  m += 1\n"
      ]
    }
  ]
}