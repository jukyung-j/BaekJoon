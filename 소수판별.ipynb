{
  "nbformat": 4,
  "nbformat_minor": 0,
  "metadata": {
    "colab": {
      "name": "Untitled32.ipynb",
      "provenance": [],
      "collapsed_sections": [],
      "authorship_tag": "ABX9TyNk1c8HqbqX3z+lrGiN8jcr",
      "include_colab_link": true
    },
    "kernelspec": {
      "name": "python3",
      "display_name": "Python 3"
    },
    "language_info": {
      "name": "python"
    }
  },
  "cells": [
    {
      "cell_type": "markdown",
      "metadata": {
        "id": "view-in-github",
        "colab_type": "text"
      },
      "source": [
        "<a href=\"https://colab.research.google.com/github/jukyung-j/BaekJoon/blob/master/%EC%86%8C%EC%88%98%ED%8C%90%EB%B3%84.ipynb\" target=\"_parent\"><img src=\"https://colab.research.google.com/assets/colab-badge.svg\" alt=\"Open In Colab\"/></a>"
      ]
    },
    {
      "cell_type": "code",
      "execution_count": 3,
      "metadata": {
        "colab": {
          "base_uri": "https://localhost:8080/"
        },
        "id": "A7IfiTAI85GY",
        "outputId": "5e72b71b-4dfb-4598-9cc1-82350e6abd85"
      },
      "outputs": [
        {
          "output_type": "stream",
          "name": "stdout",
          "text": [
            "False\n",
            "True\n"
          ]
        }
      ],
      "source": [
        "# 소수 판별\n",
        "\n",
        "# 소수 판별 함수 (2이상의 자연수에 대하여)\n",
        "def is_prime_number(x):\n",
        "  # 2부터 x의 제곱근까지의 모든 수를 확인하며\n",
        "  for i in range(2, int(x ** (1/2)) + 1):\n",
        "    # x가 해당 수로 나누어떨어진다면\n",
        "    if x % i == 0:\n",
        "      return False  # 소수가 아님\n",
        "  return True # 소수임\n",
        "\n",
        "print(is_prime_number(4))\n",
        "print(is_prime_number(7))"
      ]
    }
  ]
}