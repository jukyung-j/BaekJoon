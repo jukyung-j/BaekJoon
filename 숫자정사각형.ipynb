{
  "nbformat": 4,
  "nbformat_minor": 0,
  "metadata": {
    "colab": {
      "name": "Untitled133.ipynb",
      "provenance": [],
      "authorship_tag": "ABX9TyPqF3MN4EubvDSCOyejyaNa",
      "include_colab_link": true
    },
    "kernelspec": {
      "name": "python3",
      "display_name": "Python 3"
    },
    "language_info": {
      "name": "python"
    }
  },
  "cells": [
    {
      "cell_type": "markdown",
      "metadata": {
        "id": "view-in-github",
        "colab_type": "text"
      },
      "source": [
        "<a href=\"https://colab.research.google.com/github/jukyung-j/BaekJoon/blob/master/%EC%88%AB%EC%9E%90%EC%A0%95%EC%82%AC%EA%B0%81%ED%98%95.ipynb\" target=\"_parent\"><img src=\"https://colab.research.google.com/assets/colab-badge.svg\" alt=\"Open In Colab\"/></a>"
      ]
    },
    {
      "cell_type": "code",
      "execution_count": 22,
      "metadata": {
        "colab": {
          "base_uri": "https://localhost:8080/"
        },
        "id": "VVvrGBiEqj_f",
        "outputId": "8e480aa6-96c8-4d37-c8f9-6b67f7a01a95"
      },
      "outputs": [
        {
          "output_type": "stream",
          "name": "stdout",
          "text": [
            "11 10\n",
            "9785409507\n",
            "2055103694\n",
            "0861396761\n",
            "3073207669\n",
            "1233049493\n",
            "2300248968\n",
            "9769239548\n",
            "7984130001\n",
            "1670020095\n",
            "8894239889\n",
            "4053971072\n",
            "49\n"
          ]
        }
      ],
      "source": [
        "n, m = map(int, input().split())\n",
        "num = [list(map(int, input())) for _ in range(n)]\n",
        "\n",
        "size = min(n, m)\n",
        "condition = True\n",
        "for s in range(size, 0, -1):\n",
        "  for i in range(n - s + 1):\n",
        "    for j in range(m - s + 1):\n",
        "      if num[i][j] == num[i][j + s - 1] and num[i][j] == num[i + s - 1][j] and num[i][j] == num[i + s - 1][j + s - 1]:\n",
        "        result = s * s\n",
        "        condition = False\n",
        "        break\n",
        "    if not condition:\n",
        "      break\n",
        "  if not condition:\n",
        "    break\n",
        "      \n",
        "print(result)\n",
        "\n"
      ]
    }
  ]
}