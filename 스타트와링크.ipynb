{
  "nbformat": 4,
  "nbformat_minor": 0,
  "metadata": {
    "colab": {
      "name": "Untitled91.ipynb",
      "provenance": [],
      "authorship_tag": "ABX9TyPRivNdiAxoNpPHfAW2DaMo",
      "include_colab_link": true
    },
    "kernelspec": {
      "name": "python3",
      "display_name": "Python 3"
    },
    "language_info": {
      "name": "python"
    }
  },
  "cells": [
    {
      "cell_type": "markdown",
      "metadata": {
        "id": "view-in-github",
        "colab_type": "text"
      },
      "source": [
        "<a href=\"https://colab.research.google.com/github/jukyung-j/BaekJoon/blob/master/%EC%8A%A4%ED%83%80%ED%8A%B8%EC%99%80%EB%A7%81%ED%81%AC.ipynb\" target=\"_parent\"><img src=\"https://colab.research.google.com/assets/colab-badge.svg\" alt=\"Open In Colab\"/></a>"
      ]
    },
    {
      "cell_type": "code",
      "execution_count": 32,
      "metadata": {
        "colab": {
          "base_uri": "https://localhost:8080/"
        },
        "id": "9TE741NtEhLW",
        "outputId": "9fcd73fe-1e16-419c-f782-af27c34617f3"
      },
      "outputs": [
        {
          "output_type": "stream",
          "name": "stdout",
          "text": [
            "6\n",
            "0 1 2 3 4 5\n",
            "1 0 2 3 4 5\n",
            "1 2 0 3 4 5\n",
            "1 2 3 0 4 5\n",
            "1 2 3 4 0 5\n",
            "1 2 3 4 5 0\n",
            "2\n"
          ]
        }
      ],
      "source": [
        "import sys\n",
        "\n",
        "\n",
        "\n",
        "def find_skill(start_team, link_team):  # start능력치와 link능력치 차이 구하기\n",
        "  start, link = 0, 0\n",
        "  for i in range(n // 2):\n",
        "    for j in range(n // 2):\n",
        "      if i == j:\n",
        "        continue\n",
        "      start += s[start_team[i]][start_team[j]]\n",
        "      link += s[link_team[i]][link_team[j]]\n",
        "  return abs(start - link)\n",
        "\n",
        "def solution(x):\n",
        "  global result\n",
        "  if len(start_team) == n // 2:\n",
        "    link_team = [i for i in range(n) if not visited[i]]\n",
        "    diff = find_skill(start_team, link_team)\n",
        "    if result > diff: result = diff\n",
        "    return\n",
        "  for i in range(x, n):\n",
        "    if not visited[i]:\n",
        "      visited[i] = True\n",
        "      start_team.append(i)\n",
        "      solution(i + 1)\n",
        "      visited[i] = False\n",
        "      start_team.pop()\n",
        "\n",
        "\n",
        "n = int(sys.stdin.readline())\n",
        "s = [list(map(int, sys.stdin.readline().split())) for _ in range(n)]\n",
        "\n",
        "visited = [False] * 20\n",
        "start_team, link_team = [], []\n",
        "result = 101\n",
        "solution(0)\n",
        "print(result)\n",
        "\n"
      ]
    }
  ]
}