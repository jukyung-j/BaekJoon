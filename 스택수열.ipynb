{
  "nbformat": 4,
  "nbformat_minor": 0,
  "metadata": {
    "colab": {
      "name": "Untitled125.ipynb",
      "provenance": [],
      "authorship_tag": "ABX9TyOgC7qw5WlTJDudZxSgnm86",
      "include_colab_link": true
    },
    "kernelspec": {
      "name": "python3",
      "display_name": "Python 3"
    },
    "language_info": {
      "name": "python"
    }
  },
  "cells": [
    {
      "cell_type": "markdown",
      "metadata": {
        "id": "view-in-github",
        "colab_type": "text"
      },
      "source": [
        "<a href=\"https://colab.research.google.com/github/jukyung-j/BaekJoon/blob/master/%EC%8A%A4%ED%83%9D%EC%88%98%EC%97%B4.ipynb\" target=\"_parent\"><img src=\"https://colab.research.google.com/assets/colab-badge.svg\" alt=\"Open In Colab\"/></a>"
      ]
    },
    {
      "cell_type": "code",
      "execution_count": 17,
      "metadata": {
        "colab": {
          "base_uri": "https://localhost:8080/"
        },
        "id": "FJyWW-8BuN7J",
        "outputId": "4f7519ad-3c75-4daa-da7b-8d9cf6f0c5da"
      },
      "outputs": [
        {
          "output_type": "stream",
          "name": "stdout",
          "text": [
            "8\n",
            "4\n",
            "3\n",
            "6\n",
            "8\n",
            "7\n",
            "5\n",
            "2\n",
            "1\n",
            "+\n",
            "+\n",
            "+\n",
            "+\n",
            "-\n",
            "-\n",
            "+\n",
            "+\n",
            "-\n",
            "+\n",
            "+\n",
            "-\n",
            "-\n",
            "-\n",
            "-\n",
            "-\n"
          ]
        }
      ],
      "source": [
        "n = int(input())\n",
        "array = [0] * n\n",
        "stack = []\n",
        "result = []\n",
        "is_possible = True\n",
        "num = 1\n",
        "for i in range(n):\n",
        "  array[i] = int(input())\n",
        "\n",
        "for a in array:\n",
        "  while is_possible:\n",
        "    if stack:\n",
        "      if a == stack[-1]:\n",
        "        stack.pop()\n",
        "        result.append('-')\n",
        "        break\n",
        "      elif a < stack[-1]:\n",
        "        is_possible = False\n",
        "        break\n",
        "      else:\n",
        "        stack.append(num)\n",
        "        num += 1\n",
        "        result.append('+')\n",
        "    else:\n",
        "      stack.append(num)\n",
        "      result.append('+')\n",
        "      num += 1\n",
        "\n",
        "if is_possible:\n",
        "  for r in result:\n",
        "    print(r)\n",
        "else:\n",
        "  print('NO')"
      ]
    },
    {
      "cell_type": "code",
      "source": [
        ""
      ],
      "metadata": {
        "id": "lflJ6IMQ14HP"
      },
      "execution_count": null,
      "outputs": []
    }
  ]
}