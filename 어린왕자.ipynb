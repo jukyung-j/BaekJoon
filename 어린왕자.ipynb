{
  "nbformat": 4,
  "nbformat_minor": 0,
  "metadata": {
    "colab": {
      "name": "Untitled132.ipynb",
      "provenance": [],
      "authorship_tag": "ABX9TyOWaL03An2EiOL3q2ZrC2dO",
      "include_colab_link": true
    },
    "kernelspec": {
      "name": "python3",
      "display_name": "Python 3"
    },
    "language_info": {
      "name": "python"
    }
  },
  "cells": [
    {
      "cell_type": "markdown",
      "metadata": {
        "id": "view-in-github",
        "colab_type": "text"
      },
      "source": [
        "<a href=\"https://colab.research.google.com/github/jukyung-j/BaekJoon/blob/master/%EC%96%B4%EB%A6%B0%EC%99%95%EC%9E%90.ipynb\" target=\"_parent\"><img src=\"https://colab.research.google.com/assets/colab-badge.svg\" alt=\"Open In Colab\"/></a>"
      ]
    },
    {
      "cell_type": "code",
      "execution_count": null,
      "metadata": {
        "id": "jjnwptTcOAcl"
      },
      "outputs": [],
      "source": [
        "t = int(input())\n",
        "for _ in range(t):\n",
        "  start_x, start_y, end_x, end_y = list(map(int, input().split()))\n",
        "  num = int(input())\n",
        "  count = 0\n",
        "  for i in range(num):\n",
        "    px ,py, r = map(int, input().split())\n",
        "    start = ((start_x - px) ** 2 + (start_y - py) ** 2) ** 0.5\n",
        "    end = ((end_x - px) ** 2 + (end_y - py) ** 2) ** 0.5\n",
        "    if start > r and end > r:\n",
        "      continue\n",
        "    elif start < r and end > r:\n",
        "      count += 1\n",
        "    elif start > r and end < r:\n",
        "      count += 1\n",
        "  print(count)\n",
        "    "
      ]
    }
  ]
}