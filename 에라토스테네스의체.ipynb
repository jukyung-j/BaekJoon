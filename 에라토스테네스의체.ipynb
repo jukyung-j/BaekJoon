{
  "nbformat": 4,
  "nbformat_minor": 0,
  "metadata": {
    "colab": {
      "name": "Untitled33.ipynb",
      "provenance": [],
      "collapsed_sections": [],
      "authorship_tag": "ABX9TyMgz/uCwL4u+guPiXF5PX4k",
      "include_colab_link": true
    },
    "kernelspec": {
      "name": "python3",
      "display_name": "Python 3"
    },
    "language_info": {
      "name": "python"
    }
  },
  "cells": [
    {
      "cell_type": "markdown",
      "metadata": {
        "id": "view-in-github",
        "colab_type": "text"
      },
      "source": [
        "<a href=\"https://colab.research.google.com/github/jukyung-j/BaekJoon/blob/master/%EC%97%90%EB%9D%BC%ED%86%A0%EC%8A%A4%ED%85%8C%EB%84%A4%EC%8A%A4%EC%9D%98%EC%B2%B4.ipynb\" target=\"_parent\"><img src=\"https://colab.research.google.com/assets/colab-badge.svg\" alt=\"Open In Colab\"/></a>"
      ]
    },
    {
      "cell_type": "code",
      "execution_count": null,
      "metadata": {
        "id": "lWcrj3A_Ahcs"
      },
      "outputs": [],
      "source": [
        "# 에라토스테네스의 체 알고리즘\n",
        "\n",
        "n = 1000  # 2부터 1,000까지의 모든 수에 대하여 소수 판별\n",
        "# 처음엔 모든 수가 소수(True)인 것으로 초기화(0과 1은 제외)\n",
        "array = [True for i in range(n + 1)]\n",
        "\n",
        "# 에라토스테네스의 체 알고리즘 수행\n",
        "# 2부터 n의 제곱근까지의 모든 수를 확인하며\n",
        "for i in range(2, int(n ** (1 / 2)) + 1):\n",
        "  if array[i] == True:  # i가 소수인 경우(남은 수인 경우)\n",
        "    # i를 제외한 i의 모든 배수를 지우기\n",
        "    j = 2\n",
        "    while i * j <= n:\n",
        "      array[i * j] = False\n",
        "      j += 1\n",
        "\n",
        "# 모든 소수 출력\n",
        "for i in range(2, n + 1):\n",
        "  if array[i]:\n",
        "    print(i, end=' ')"
      ]
    }
  ]
}