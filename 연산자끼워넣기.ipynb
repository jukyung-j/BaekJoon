{
  "nbformat": 4,
  "nbformat_minor": 0,
  "metadata": {
    "colab": {
      "name": "Untitled90.ipynb",
      "provenance": [],
      "authorship_tag": "ABX9TyOLrkEfSbCetY6p3XdRX2ma",
      "include_colab_link": true
    },
    "kernelspec": {
      "name": "python3",
      "display_name": "Python 3"
    },
    "language_info": {
      "name": "python"
    }
  },
  "cells": [
    {
      "cell_type": "markdown",
      "metadata": {
        "id": "view-in-github",
        "colab_type": "text"
      },
      "source": [
        "<a href=\"https://colab.research.google.com/github/jukyung-j/BaekJoon/blob/master/%EC%97%B0%EC%82%B0%EC%9E%90%EB%81%BC%EC%9B%8C%EB%84%A3%EA%B8%B0.ipynb\" target=\"_parent\"><img src=\"https://colab.research.google.com/assets/colab-badge.svg\" alt=\"Open In Colab\"/></a>"
      ]
    },
    {
      "cell_type": "code",
      "execution_count": 30,
      "metadata": {
        "colab": {
          "base_uri": "https://localhost:8080/"
        },
        "id": "splkwFR7M3in",
        "outputId": "a2f48414-6445-418c-a37f-5e328d4152d9"
      },
      "outputs": [
        {
          "output_type": "stream",
          "name": "stdout",
          "text": [
            "6\n",
            "1 2 3 4 5 6\n",
            "2 1 1 1\n",
            "54\n",
            "-24\n"
          ]
        }
      ],
      "source": [
        "def back(x):\n",
        "  if len(order) == n - 1:\n",
        "    result = num[0]\n",
        "    for i in range(n - 1):\n",
        "      if order[i] == 0: # 덧셈\n",
        "        result += num[i + 1]\n",
        "      elif order[i] == 1: # 뺄샘\n",
        "        result -= num[i + 1]\n",
        "      elif order[i] == 2: # 곱셈\n",
        "        result *= num[i + 1]\n",
        "      elif order[i] == 3: # 나눗셈\n",
        "        result = int(result / num[i + 1])\n",
        "    results.append(result)\n",
        "    return\n",
        "  for i in range(4):\n",
        "    if operator[i]:\n",
        "      order.append(i)\n",
        "      operator[i] -= 1\n",
        "      back(x)\n",
        "      order.pop()\n",
        "      operator[i] += 1\n",
        "      \n",
        "n = int(input())\n",
        "num = list(map(int, input().split()))\n",
        "operator = list(map(int, input().split()))\n",
        "order = []\n",
        "results = []\n",
        "back(0)\n",
        "print(max(results))\n",
        "print(min(results))\n"
      ]
    }
  ]
}