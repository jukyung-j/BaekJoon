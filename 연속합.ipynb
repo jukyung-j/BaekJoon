{
  "nbformat": 4,
  "nbformat_minor": 0,
  "metadata": {
    "colab": {
      "name": "Untitled105.ipynb",
      "provenance": [],
      "authorship_tag": "ABX9TyPeIB9U7OeJv8o2dz7+QWpb",
      "include_colab_link": true
    },
    "kernelspec": {
      "name": "python3",
      "display_name": "Python 3"
    },
    "language_info": {
      "name": "python"
    }
  },
  "cells": [
    {
      "cell_type": "markdown",
      "metadata": {
        "id": "view-in-github",
        "colab_type": "text"
      },
      "source": [
        "<a href=\"https://colab.research.google.com/github/jukyung-j/BaekJoon/blob/master/%EC%97%B0%EC%86%8D%ED%95%A9.ipynb\" target=\"_parent\"><img src=\"https://colab.research.google.com/assets/colab-badge.svg\" alt=\"Open In Colab\"/></a>"
      ]
    },
    {
      "cell_type": "code",
      "execution_count": 16,
      "metadata": {
        "colab": {
          "base_uri": "https://localhost:8080/"
        },
        "id": "LXYlBempmOAo",
        "outputId": "d3d6fce7-c557-4e10-fc89-45768e5d3df2"
      },
      "outputs": [
        {
          "output_type": "stream",
          "name": "stdout",
          "text": [
            "5\n",
            "-1 -2 -3 -4 -5\n",
            "-1\n"
          ]
        }
      ],
      "source": [
        "n = int(input())\n",
        "arr = list(map(int, input().split()))\n",
        "dp = [0] * n\n",
        "dp[0] = arr[0]\n",
        "for i in range(n):\n",
        "  dp[i] = max(dp[i - 1] + arr[i], arr[i], 0)\n",
        "if max(dp) == 0:\n",
        "  print(max(arr))\n",
        "else:\n",
        "  print(max(dp))"
      ]
    },
    {
      "cell_type": "code",
      "source": [
        ""
      ],
      "metadata": {
        "id": "udP8L-Gjmqgk"
      },
      "execution_count": null,
      "outputs": []
    }
  ]
}