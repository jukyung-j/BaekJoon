{
  "nbformat": 4,
  "nbformat_minor": 0,
  "metadata": {
    "colab": {
      "name": "Untitled129.ipynb",
      "provenance": [],
      "authorship_tag": "ABX9TyN9M2xT+W1JnDTFBIsQ+Cfd",
      "include_colab_link": true
    },
    "kernelspec": {
      "name": "python3",
      "display_name": "Python 3"
    },
    "language_info": {
      "name": "python"
    }
  },
  "cells": [
    {
      "cell_type": "markdown",
      "metadata": {
        "id": "view-in-github",
        "colab_type": "text"
      },
      "source": [
        "<a href=\"https://colab.research.google.com/github/jukyung-j/BaekJoon/blob/master/%EC%9C%A0%EA%B8%B0%EB%86%8D%EB%B0%B0%EC%B6%94.ipynb\" target=\"_parent\"><img src=\"https://colab.research.google.com/assets/colab-badge.svg\" alt=\"Open In Colab\"/></a>"
      ]
    },
    {
      "cell_type": "code",
      "execution_count": null,
      "metadata": {
        "colab": {
          "base_uri": "https://localhost:8080/"
        },
        "id": "jlcQb4SmvPKJ",
        "outputId": "0f43f21a-8bb5-4c63-8a06-d68ac16118be"
      },
      "outputs": [
        {
          "name": "stdout",
          "output_type": "stream",
          "text": [
            "1\n"
          ]
        }
      ],
      "source": [
        "t = int(input())\n",
        "for _ in range(t):\n",
        "  m, n, k = map(int, input().split())\n",
        "  graph = [[0] *m for _ in range(n)]\n",
        "  for _ in range(k):\n",
        "    x, y = map(int, input().split())\n",
        "    graph[x][y] = 1\n",
        "  def dfs(x, y):\n",
        "    if x < 0 or x > m or y < 0 or y >n:\n",
        "      return False\n",
        "    if graph[x][y] == 1:\n",
        "      graph[x][y] = 0 # 방문처리\n",
        "      dfs(x, y - 1)\n",
        "      dfs(x, y + 1)\n",
        "      dfs(x - 1, y)\n",
        "      dfs(x + 1, y)\n",
        "      return True\n",
        "    else:\n",
        "      return False\n",
        "  result = 0\n",
        "  for i in range(m):\n",
        "    for j in range(n):\n",
        "      if dfs(i, j):\n",
        "        result += 1\n",
        "  print(result)"
      ]
    }
  ]
}