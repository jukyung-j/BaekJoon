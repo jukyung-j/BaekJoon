{
  "nbformat": 4,
  "nbformat_minor": 0,
  "metadata": {
    "colab": {
      "name": "Untitled120.ipynb",
      "provenance": [],
      "collapsed_sections": [],
      "authorship_tag": "ABX9TyPMzIxnPsgK2Xp0bGO0R9bg",
      "include_colab_link": true
    },
    "kernelspec": {
      "name": "python3",
      "display_name": "Python 3"
    },
    "language_info": {
      "name": "python"
    }
  },
  "cells": [
    {
      "cell_type": "markdown",
      "metadata": {
        "id": "view-in-github",
        "colab_type": "text"
      },
      "source": [
        "<a href=\"https://colab.research.google.com/github/jukyung-j/BaekJoon/blob/master/%EC%9D%B4%ED%95%AD%EA%B3%84%EC%88%982.ipynb\" target=\"_parent\"><img src=\"https://colab.research.google.com/assets/colab-badge.svg\" alt=\"Open In Colab\"/></a>"
      ]
    },
    {
      "cell_type": "code",
      "execution_count": 16,
      "metadata": {
        "colab": {
          "base_uri": "https://localhost:8080/"
        },
        "id": "xwoSB6L3ykV5",
        "outputId": "57086c2e-36ab-4215-8976-8a5744d6c1cf"
      },
      "outputs": [
        {
          "output_type": "stream",
          "name": "stdout",
          "text": [
            "1000 5\n",
            "6144\n"
          ]
        }
      ],
      "source": [
        "n, k = map(int, input().split())\n",
        "k = n - k if n - k < k  else k\n",
        "n_num, n_tmp, k_num, k_tmp = n, n, k, k\n",
        "for i in range(k - 1):\n",
        "  n_num *= (n_tmp - 1)\n",
        "  k_num *= (k_tmp - 1)\n",
        "  n_tmp -= 1\n",
        "  k_tmp -= 1\n",
        "\n",
        "if k <= 0 or k >= n:\n",
        "  result = 1\n",
        "else:\n",
        "  result = n_num // k_num\n",
        "\n",
        "print(result % 10007)"
      ]
    }
  ]
}