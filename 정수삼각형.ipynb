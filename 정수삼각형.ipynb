{
  "nbformat": 4,
  "nbformat_minor": 0,
  "metadata": {
    "colab": {
      "name": "Untitled101.ipynb",
      "provenance": [],
      "authorship_tag": "ABX9TyMWDjEMaOZt9PG/jo+zHVDf",
      "include_colab_link": true
    },
    "kernelspec": {
      "name": "python3",
      "display_name": "Python 3"
    },
    "language_info": {
      "name": "python"
    }
  },
  "cells": [
    {
      "cell_type": "markdown",
      "metadata": {
        "id": "view-in-github",
        "colab_type": "text"
      },
      "source": [
        "<a href=\"https://colab.research.google.com/github/jukyung-j/BaekJoon/blob/master/%EC%A0%95%EC%88%98%EC%82%BC%EA%B0%81%ED%98%95.ipynb\" target=\"_parent\"><img src=\"https://colab.research.google.com/assets/colab-badge.svg\" alt=\"Open In Colab\"/></a>"
      ]
    },
    {
      "cell_type": "code",
      "execution_count": 14,
      "metadata": {
        "colab": {
          "base_uri": "https://localhost:8080/"
        },
        "id": "kNG7ZZw6jQOy",
        "outputId": "949fa68c-be8b-444e-e7c7-2d5525c90883"
      },
      "outputs": [
        {
          "output_type": "stream",
          "name": "stdout",
          "text": [
            "1\n",
            "4\n",
            "4\n"
          ]
        }
      ],
      "source": [
        "\n",
        "n = int(input())\n",
        "tri = [[0 for _ in range(500)] for _ in range(500)]\n",
        "tri_input = []\n",
        "for _ in range(n):\n",
        "  tri_input.append(list(map(int, input().split())))\n",
        "for i in range(n):\n",
        "  for j in range(i + 1):\n",
        "    tri[i][j] = tri_input[i][j]\n",
        "\n",
        "\n",
        "tri[1][0] += tri[0][0]\n",
        "tri[1][1] += tri[0][0]\n",
        "\n",
        "for i in range(2, n):\n",
        "  for j in range(len(tri[i])):\n",
        "    tri[i][j] = max(tri[i - 1][j],tri[i - 1][j - 1]) + tri[i][j]\n",
        "print(max(tri[n - 1]))"
      ]
    }
  ]
}