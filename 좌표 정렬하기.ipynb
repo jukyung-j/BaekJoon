{
  "nbformat": 4,
  "nbformat_minor": 0,
  "metadata": {
    "colab": {
      "name": "Untitled78.ipynb",
      "provenance": [],
      "collapsed_sections": [],
      "authorship_tag": "ABX9TyNV/SpzH1FIT3jpn5Jy4HrZ",
      "include_colab_link": true
    },
    "kernelspec": {
      "name": "python3",
      "display_name": "Python 3"
    },
    "language_info": {
      "name": "python"
    }
  },
  "cells": [
    {
      "cell_type": "markdown",
      "metadata": {
        "id": "view-in-github",
        "colab_type": "text"
      },
      "source": [
        "<a href=\"https://colab.research.google.com/github/jukyung-j/BaekJoon/blob/master/%EC%A2%8C%ED%91%9C%20%EC%A0%95%EB%A0%AC%ED%95%98%EA%B8%B0.ipynb\" target=\"_parent\"><img src=\"https://colab.research.google.com/assets/colab-badge.svg\" alt=\"Open In Colab\"/></a>"
      ]
    },
    {
      "cell_type": "code",
      "execution_count": 48,
      "metadata": {
        "colab": {
          "base_uri": "https://localhost:8080/"
        },
        "id": "z-9ogpoCiUpO",
        "outputId": "12aec929-aee0-430e-c421-123aa977200c"
      },
      "outputs": [
        {
          "output_type": "stream",
          "name": "stdout",
          "text": [
            "5\n",
            "3 4\n",
            "1 1\n",
            "1 -1\n",
            "2 2\n",
            "3 3\n",
            "1 -1\n",
            "1 1\n",
            "2 2\n",
            "3 3\n",
            "3 4\n"
          ]
        }
      ],
      "source": [
        "n = int(input())\n",
        "x = [list(map(int, input().split())) for _ in range(n)]\n",
        "x.sort(key = lambda x: (x[0], x[1]))\n",
        "for i in range(n):\n",
        "  print(*x[i])"
      ]
    },
    {
      "cell_type": "code",
      "source": [
        ""
      ],
      "metadata": {
        "id": "PuVWWcvVi3Sd"
      },
      "execution_count": null,
      "outputs": []
    }
  ]
}