{
  "nbformat": 4,
  "nbformat_minor": 0,
  "metadata": {
    "colab": {
      "name": "Untitled110.ipynb",
      "provenance": [],
      "authorship_tag": "ABX9TyMwVvkMpbx7leFVCBKAYKr6",
      "include_colab_link": true
    },
    "kernelspec": {
      "name": "python3",
      "display_name": "Python 3"
    },
    "language_info": {
      "name": "python"
    }
  },
  "cells": [
    {
      "cell_type": "markdown",
      "metadata": {
        "id": "view-in-github",
        "colab_type": "text"
      },
      "source": [
        "<a href=\"https://colab.research.google.com/github/jukyung-j/BaekJoon/blob/master/%EC%A3%BC%EC%9C%A0%EC%86%8C.ipynb\" target=\"_parent\"><img src=\"https://colab.research.google.com/assets/colab-badge.svg\" alt=\"Open In Colab\"/></a>"
      ]
    },
    {
      "cell_type": "code",
      "execution_count": 7,
      "metadata": {
        "colab": {
          "base_uri": "https://localhost:8080/"
        },
        "id": "emSfM3wRK2JP",
        "outputId": "f84f1eba-9d3b-4bfa-9ce3-d5f1413d2665"
      },
      "outputs": [
        {
          "output_type": "stream",
          "name": "stdout",
          "text": [
            "4\n",
            "3 3 4\n",
            "1 1 1 1\n",
            "10\n"
          ]
        }
      ],
      "source": [
        "n = int(input())\n",
        "dist = list(map(int, input().split()))\n",
        "city = list(map(int, input().split()))\n",
        "distance, result = dist[0], 0\n",
        "start = city[0]\n",
        "for i in range(1, n - 1):\n",
        "  if start < city[i]:\n",
        "    distance += dist[i]\n",
        "    continue\n",
        "  else: \n",
        "    result += start * distance\n",
        "    start = city[i]\n",
        "  distance = dist[i]\n",
        "result += start * distance\n",
        "print(result)\n"
      ]
    }
  ]
}