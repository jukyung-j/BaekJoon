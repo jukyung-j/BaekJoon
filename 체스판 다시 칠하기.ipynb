{
  "nbformat": 4,
  "nbformat_minor": 0,
  "metadata": {
    "colab": {
      "name": "Untitled71.ipynb",
      "provenance": [],
      "collapsed_sections": [],
      "authorship_tag": "ABX9TyPuKJGdPoiE6GBysSZ9Dd3a",
      "include_colab_link": true
    },
    "kernelspec": {
      "name": "python3",
      "display_name": "Python 3"
    },
    "language_info": {
      "name": "python"
    }
  },
  "cells": [
    {
      "cell_type": "markdown",
      "metadata": {
        "id": "view-in-github",
        "colab_type": "text"
      },
      "source": [
        "<a href=\"https://colab.research.google.com/github/jukyung-j/BaekJoon/blob/master/%EC%B2%B4%EC%8A%A4%ED%8C%90%20%EB%8B%A4%EC%8B%9C%20%EC%B9%A0%ED%95%98%EA%B8%B0.ipynb\" target=\"_parent\"><img src=\"https://colab.research.google.com/assets/colab-badge.svg\" alt=\"Open In Colab\"/></a>"
      ]
    },
    {
      "cell_type": "code",
      "execution_count": null,
      "metadata": {
        "colab": {
          "base_uri": "https://localhost:8080/"
        },
        "id": "EzgQ-dSgsIVo",
        "outputId": "fab6c7f7-40b5-4e73-d9b0-9275933cdfcd"
      },
      "outputs": [
        {
          "name": "stdout",
          "output_type": "stream",
          "text": [
            "8 8\n"
          ]
        }
      ],
      "source": [
        "n, m = map(int, input().split())\n",
        "rectangle = [list(map(str, input())) for _ in range(n)]\n",
        "min, count = 51, 0\n",
        "x, y = 0, 0\n",
        "color = ['W', 'B']\n",
        "for _ in range((n - 7) * (m - 7)):    # x, y가 이동하는 만큼\n",
        "  for c in range(2):  # W를 기준으로 하는 경우와 B를 기준으로 하는 경우의 수\n",
        "    for i in range(y, 8 + y):\n",
        "      for j in range(x, 7 + x, 2):\n",
        "        if rectangle[i][j] != color[0]:\n",
        "          count += 1\n",
        "        if rectangle[i][j + 1] != color[1]:\n",
        "          count += 1\n",
        "      color[0], color[1]  = color[1], color[0]    # 다음 줄의 시작은 반대 색으로\n",
        "    color[0], color[1] = color[1], color[0]   # 첫 기준을 반대로 하기 위해\n",
        "    if min > count:\n",
        "      min = count\n",
        "    count = 0\n",
        "  y += 1\n",
        "  if y > n - 8:\n",
        "    x += 1\n",
        "    y = 0\n",
        "print(min)"
      ]
    },
    {
      "cell_type": "code",
      "source": [
        ""
      ],
      "metadata": {
        "id": "t-IVALvguFd3"
      },
      "execution_count": null,
      "outputs": []
    }
  ]
}