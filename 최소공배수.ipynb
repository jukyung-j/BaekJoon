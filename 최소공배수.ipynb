{
  "nbformat": 4,
  "nbformat_minor": 0,
  "metadata": {
    "colab": {
      "name": "Untitled118.ipynb",
      "provenance": [],
      "authorship_tag": "ABX9TyMceKVYnJPBQNAECwIXDIGG",
      "include_colab_link": true
    },
    "kernelspec": {
      "name": "python3",
      "display_name": "Python 3"
    },
    "language_info": {
      "name": "python"
    }
  },
  "cells": [
    {
      "cell_type": "markdown",
      "metadata": {
        "id": "view-in-github",
        "colab_type": "text"
      },
      "source": [
        "<a href=\"https://colab.research.google.com/github/jukyung-j/BaekJoon/blob/master/%EC%B5%9C%EC%86%8C%EA%B3%B5%EB%B0%B0%EC%88%98.ipynb\" target=\"_parent\"><img src=\"https://colab.research.google.com/assets/colab-badge.svg\" alt=\"Open In Colab\"/></a>"
      ]
    },
    {
      "cell_type": "code",
      "execution_count": null,
      "metadata": {
        "colab": {
          "base_uri": "https://localhost:8080/"
        },
        "id": "pk8hIZUM19xJ",
        "outputId": "171e7f64-188b-4fcc-f8e9-a41e12148ed8"
      },
      "outputs": [
        {
          "output_type": "stream",
          "name": "stdout",
          "text": [
            "3\n",
            "1 45000\n",
            "45000\n"
          ]
        }
      ],
      "source": [
        "n = int(input())\n",
        "for _ in range(n):\n",
        "  a, b = map(int, input().split())\n",
        "  num1, num2 = a, b\n",
        "  rest = 1\n",
        "  while rest:\n",
        "    rest = num2 % num1\n",
        "    num2 = num1\n",
        "    num1 = rest\n",
        "  result = (a // num2) * (b // num2) * num2\n",
        "  print(result)"
      ]
    },
    {
      "cell_type": "code",
      "source": [
        ""
      ],
      "metadata": {
        "id": "-of1bWuA3M7-"
      },
      "execution_count": null,
      "outputs": []
    }
  ]
}