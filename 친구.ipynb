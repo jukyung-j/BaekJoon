{
  "nbformat": 4,
  "nbformat_minor": 0,
  "metadata": {
    "colab": {
      "name": "Untitled148.ipynb",
      "provenance": [],
      "authorship_tag": "ABX9TyMkCaqRMzdilO7D0Kri1TJS",
      "include_colab_link": true
    },
    "kernelspec": {
      "name": "python3",
      "display_name": "Python 3"
    },
    "language_info": {
      "name": "python"
    }
  },
  "cells": [
    {
      "cell_type": "markdown",
      "metadata": {
        "id": "view-in-github",
        "colab_type": "text"
      },
      "source": [
        "<a href=\"https://colab.research.google.com/github/jukyung-j/BaekJoon/blob/master/%EC%B9%9C%EA%B5%AC.ipynb\" target=\"_parent\"><img src=\"https://colab.research.google.com/assets/colab-badge.svg\" alt=\"Open In Colab\"/></a>"
      ]
    },
    {
      "cell_type": "code",
      "execution_count": 41,
      "metadata": {
        "colab": {
          "base_uri": "https://localhost:8080/"
        },
        "id": "YfPKQNP4wdBZ",
        "outputId": "566ae1f4-f742-4d46-d7be-e0ef3c905a9a"
      },
      "outputs": [
        {
          "name": "stdout",
          "output_type": "stream",
          "text": [
            "5\n",
            "NYNNN\n",
            "YNYNN\n",
            "NYNYN\n",
            "NNYNY\n",
            "NNNYN\n"
          ]
        }
      ],
      "source": [
        "n = int(input())\n",
        "graph = [list(input()) for _ in range(n)]\n",
        "first_array = []\n",
        "result_array = []\n",
        "for i in range(n):\n",
        "    first_array.append([])\n",
        "    result_array.append([])\n",
        "for x in range(len(graph)):\n",
        "  for i in range(n):\n",
        "    if graph[x][i] == 'Y':\n",
        "      first_array[x].append(i)\n",
        "      result_array[x].append(i)\n",
        "  for i in first_array[x]:\n",
        "    for j in range(n):\n",
        "      if graph[i][j] == 'Y':\n",
        "        if j == x or j in result_array[x]:\n",
        "          continue\n",
        "        result_array[x].append(j)\n",
        "len(max(result_array, key=len))"
      ]
    },
    {
      "cell_type": "code",
      "source": [
        "len(max(result_array, key=len))"
      ],
      "metadata": {
        "colab": {
          "base_uri": "https://localhost:8080/"
        },
        "id": "62W-8P004PHu",
        "outputId": "913ad9bb-f428-45a9-a085-85e76b9af619"
      },
      "execution_count": 44,
      "outputs": [
        {
          "output_type": "execute_result",
          "data": {
            "text/plain": [
              "4"
            ]
          },
          "metadata": {},
          "execution_count": 44
        }
      ]
    },
    {
      "cell_type": "code",
      "source": [
        ""
      ],
      "metadata": {
        "id": "R150pOIK_LEr"
      },
      "execution_count": 42,
      "outputs": []
    }
  ]
}