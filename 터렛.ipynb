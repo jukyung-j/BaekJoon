{
  "nbformat": 4,
  "nbformat_minor": 0,
  "metadata": {
    "colab": {
      "name": "Untitled147.ipynb",
      "provenance": [],
      "authorship_tag": "ABX9TyN+ExYTXoJIn7WLVhO3/Gkt",
      "include_colab_link": true
    },
    "kernelspec": {
      "name": "python3",
      "display_name": "Python 3"
    },
    "language_info": {
      "name": "python"
    }
  },
  "cells": [
    {
      "cell_type": "markdown",
      "metadata": {
        "id": "view-in-github",
        "colab_type": "text"
      },
      "source": [
        "<a href=\"https://colab.research.google.com/github/jukyung-j/BaekJoon/blob/master/%ED%84%B0%EB%A0%9B.ipynb\" target=\"_parent\"><img src=\"https://colab.research.google.com/assets/colab-badge.svg\" alt=\"Open In Colab\"/></a>"
      ]
    },
    {
      "cell_type": "code",
      "execution_count": 19,
      "metadata": {
        "colab": {
          "base_uri": "https://localhost:8080/"
        },
        "id": "laBzAAwbHs94",
        "outputId": "9c867610-3ee0-49e3-9345-33d69b78bcfb"
      },
      "outputs": [
        {
          "output_type": "stream",
          "name": "stdout",
          "text": [
            "3\n",
            "0 0 13 40 0 37\n",
            "40.0 2\n",
            "0 0 3 0 7 4\n",
            "7.0 1\n",
            "1 1 1 1 1 5\n",
            "0.0 0\n"
          ]
        }
      ],
      "source": [
        "t = int(input())\n",
        "for _ in range(t):\n",
        "  x1, y1, r1, x2, y2, r2 = map(int, input().split())\n",
        "  d = ((x1 - x2)**2 + (y1 - y2)**2)**0.5\n",
        "  if d == 0 and r1 == r2:\n",
        "    result = -1\n",
        "  elif abs(r1 - r2) < d < (r1 + r2):\n",
        "    result = 2\n",
        "  elif (r1 + r2) == d or abs(r1 - r2) == d:\n",
        "    result = 1\n",
        "  else:\n",
        "    result = 0\n",
        "  \n",
        "  print(result)"
      ]
    },
    {
      "cell_type": "code",
      "source": [
        ""
      ],
      "metadata": {
        "id": "bBme-BwUKPAg"
      },
      "execution_count": null,
      "outputs": []
    }
  ]
}