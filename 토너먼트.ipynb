{
  "nbformat": 4,
  "nbformat_minor": 0,
  "metadata": {
    "colab": {
      "name": "Untitled134.ipynb",
      "provenance": [],
      "authorship_tag": "ABX9TyM0hIqoOU8GDgSs6PbaKEuG",
      "include_colab_link": true
    },
    "kernelspec": {
      "name": "python3",
      "display_name": "Python 3"
    },
    "language_info": {
      "name": "python"
    }
  },
  "cells": [
    {
      "cell_type": "markdown",
      "metadata": {
        "id": "view-in-github",
        "colab_type": "text"
      },
      "source": [
        "<a href=\"https://colab.research.google.com/github/jukyung-j/BaekJoon/blob/master/%ED%86%A0%EB%84%88%EB%A8%BC%ED%8A%B8.ipynb\" target=\"_parent\"><img src=\"https://colab.research.google.com/assets/colab-badge.svg\" alt=\"Open In Colab\"/></a>"
      ]
    },
    {
      "cell_type": "code",
      "execution_count": 10,
      "metadata": {
        "colab": {
          "base_uri": "https://localhost:8080/"
        },
        "id": "33fkLuiMoZsZ",
        "outputId": "922276e3-b4e7-4d79-d386-c0e880e87c2b"
      },
      "outputs": [
        {
          "output_type": "stream",
          "name": "stdout",
          "text": [
            "16 2 1\n",
            "1\n"
          ]
        }
      ],
      "source": [
        "num, j, h = map(int, input().split())\n",
        "j -= 1\n",
        "h -= 1\n",
        "result = -1\n",
        "count = 1\n",
        "condition = True\n",
        "\n",
        "while num > 0:\n",
        "  for i in range(0, num, 2):\n",
        "    if i == j and i + 1 == h or i == h and i + 1 == j:\n",
        "      result = count\n",
        "      condition = False\n",
        "      break\n",
        "  j //= 2\n",
        "  h //= 2\n",
        "  num //= 2\n",
        "  count += 1\n",
        "  if not condition:\n",
        "    break\n",
        "\n",
        "print(result)\n"
      ]
    }
  ]
}