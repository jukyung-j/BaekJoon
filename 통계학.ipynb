{
  "nbformat": 4,
  "nbformat_minor": 0,
  "metadata": {
    "colab": {
      "name": "Untitled76.ipynb",
      "provenance": [],
      "collapsed_sections": [],
      "authorship_tag": "ABX9TyMrNJDtu6Odn8nSp4BeSlB3",
      "include_colab_link": true
    },
    "kernelspec": {
      "name": "python3",
      "display_name": "Python 3"
    },
    "language_info": {
      "name": "python"
    }
  },
  "cells": [
    {
      "cell_type": "markdown",
      "metadata": {
        "id": "view-in-github",
        "colab_type": "text"
      },
      "source": [
        "<a href=\"https://colab.research.google.com/github/jukyung-j/BaekJoon/blob/master/%ED%86%B5%EA%B3%84%ED%95%99.ipynb\" target=\"_parent\"><img src=\"https://colab.research.google.com/assets/colab-badge.svg\" alt=\"Open In Colab\"/></a>"
      ]
    },
    {
      "cell_type": "code",
      "execution_count": 17,
      "metadata": {
        "colab": {
          "base_uri": "https://localhost:8080/"
        },
        "id": "mGJ2GvlsZQ_b",
        "outputId": "5388ee50-66df-4dd1-ed73-974752456f2d"
      },
      "outputs": [
        {
          "output_type": "stream",
          "name": "stdout",
          "text": [
            "5\n",
            "-1\n",
            "-2\n",
            "-3\n",
            "-1\n",
            "-2\n",
            "-2\n",
            "-2\n",
            "-1\n",
            "2\n"
          ]
        }
      ],
      "source": [
        "from collections import Counter\n",
        "n = int(input())\n",
        "array = [int(input()) for _ in range(n)]\n",
        "array.sort()\n",
        "cnt = Counter(array)\n",
        "freq = cnt.most_common(2)\n",
        "if len(freq) > 1 : freq = freq[0][0] if freq[0][1] != freq[1][1] else freq[1][0]\n",
        "else: freq = freq[0][0]\n",
        "print(round(sum(array)/n))\n",
        "print(array[n // 2])\n",
        "print(freq)\n",
        "print(max(array) - min(array))"
      ]
    }
  ]
}