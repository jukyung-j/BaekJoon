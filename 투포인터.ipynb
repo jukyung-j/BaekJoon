{
  "nbformat": 4,
  "nbformat_minor": 0,
  "metadata": {
    "colab": {
      "name": "Untitled34.ipynb",
      "provenance": [],
      "collapsed_sections": [],
      "authorship_tag": "ABX9TyNGnQZ39hxheGwqsj+g49ON",
      "include_colab_link": true
    },
    "kernelspec": {
      "name": "python3",
      "display_name": "Python 3"
    },
    "language_info": {
      "name": "python"
    }
  },
  "cells": [
    {
      "cell_type": "markdown",
      "metadata": {
        "id": "view-in-github",
        "colab_type": "text"
      },
      "source": [
        "<a href=\"https://colab.research.google.com/github/jukyung-j/BaekJoon/blob/master/%ED%88%AC%ED%8F%AC%EC%9D%B8%ED%84%B0.ipynb\" target=\"_parent\"><img src=\"https://colab.research.google.com/assets/colab-badge.svg\" alt=\"Open In Colab\"/></a>"
      ]
    },
    {
      "cell_type": "code",
      "execution_count": 2,
      "metadata": {
        "colab": {
          "base_uri": "https://localhost:8080/"
        },
        "id": "hLnA3NGgDrqa",
        "outputId": "5f041090-a249-45ae-81b4-fb05421e90e0"
      },
      "outputs": [
        {
          "output_type": "stream",
          "name": "stdout",
          "text": [
            "3\n"
          ]
        }
      ],
      "source": [
        "# 투 포인터 예시\n",
        "\n",
        "n = 5 # 데이터의 개수 N\n",
        "m = 5 # 찾고자 하는 부분합 M\n",
        "data = [1, 2, 3, 2, 5]  # 전체 수열\n",
        "\n",
        "count = 0\n",
        "interval_sum = 0\n",
        "end = 0\n",
        "\n",
        "# start를 차례대로 증가시키며 반복\n",
        "for start in range(n):\n",
        "  # end를 가능한 만큼 이동시키기\n",
        "  while interval_sum < m and end < n:\n",
        "    interval_sum += data[end]\n",
        "    end += 1\n",
        "  # 부분합이 m일 때 카운트 증가\n",
        "  if interval_sum == m:\n",
        "    count += 1\n",
        "  interval_sum -= data[start]\n",
        "\n",
        "print(count)"
      ]
    }
  ]
}