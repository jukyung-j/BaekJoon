{
  "nbformat": 4,
  "nbformat_minor": 0,
  "metadata": {
    "colab": {
      "name": "Untitled99.ipynb",
      "provenance": [],
      "authorship_tag": "ABX9TyPl1NLgY7GL5Jv1nAE7YIH/",
      "include_colab_link": true
    },
    "kernelspec": {
      "name": "python3",
      "display_name": "Python 3"
    },
    "language_info": {
      "name": "python"
    }
  },
  "cells": [
    {
      "cell_type": "markdown",
      "metadata": {
        "id": "view-in-github",
        "colab_type": "text"
      },
      "source": [
        "<a href=\"https://colab.research.google.com/github/jukyung-j/BaekJoon/blob/master/%ED%8C%8C%EB%8F%84%EB%B0%98%EC%88%98%EC%97%B4.ipynb\" target=\"_parent\"><img src=\"https://colab.research.google.com/assets/colab-badge.svg\" alt=\"Open In Colab\"/></a>"
      ]
    },
    {
      "cell_type": "code",
      "execution_count": 2,
      "metadata": {
        "colab": {
          "base_uri": "https://localhost:8080/"
        },
        "id": "_B38oI3wdoKo",
        "outputId": "6d84227d-4100-4d73-b683-a281e3d8769e"
      },
      "outputs": [
        {
          "output_type": "stream",
          "name": "stdout",
          "text": [
            "2\n",
            "6\n",
            "3\n",
            "12\n",
            "16\n"
          ]
        }
      ],
      "source": [
        "dp = [0] * 101\n",
        "dp[1], dp[2], dp[3] = 1, 1, 1\n",
        "for i in range(4, len(dp)):\n",
        "  dp[i] = dp[i - 3] + dp[i - 2]\n",
        "t = int(input())\n",
        "for _ in range(t):\n",
        "  n = int(input())\n",
        "  print(dp[n])"
      ]
    }
  ]
}