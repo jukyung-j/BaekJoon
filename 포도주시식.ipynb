{
  "nbformat": 4,
  "nbformat_minor": 0,
  "metadata": {
    "colab": {
      "name": "Untitled104.ipynb",
      "provenance": [],
      "authorship_tag": "ABX9TyPdWOAbet2S/+qr7MslXKiS",
      "include_colab_link": true
    },
    "kernelspec": {
      "name": "python3",
      "display_name": "Python 3"
    },
    "language_info": {
      "name": "python"
    }
  },
  "cells": [
    {
      "cell_type": "markdown",
      "metadata": {
        "id": "view-in-github",
        "colab_type": "text"
      },
      "source": [
        "<a href=\"https://colab.research.google.com/github/jukyung-j/BaekJoon/blob/master/%ED%8F%AC%EB%8F%84%EC%A3%BC%EC%8B%9C%EC%8B%9D.ipynb\" target=\"_parent\"><img src=\"https://colab.research.google.com/assets/colab-badge.svg\" alt=\"Open In Colab\"/></a>"
      ]
    },
    {
      "cell_type": "code",
      "execution_count": 20,
      "metadata": {
        "colab": {
          "base_uri": "https://localhost:8080/"
        },
        "id": "NadONEAPt449",
        "outputId": "efd915f0-f0e3-4fb2-a83d-e8afec2889dd"
      },
      "outputs": [
        {
          "output_type": "stream",
          "name": "stdout",
          "text": [
            "6\n",
            "1000\n",
            "1000\n",
            "1\n",
            "1\n",
            "1000\n",
            "1000\n",
            "4000\n"
          ]
        }
      ],
      "source": [
        "n = int(input())\n",
        "array = [0] * 10000\n",
        "for i in range(n):\n",
        "  array[i] = int(input())\n",
        "dp = [0] * 10000\n",
        "dp[0] = array[0]\n",
        "dp[1] = array[0] + array[1]\n",
        "dp[2] = max(array[0] + array[2], array[1] + array[2], dp[1])\n",
        "for i in range(3, n):\n",
        "  dp[i] = max(dp[i - 3] + array[i - 1] + array[i], dp[i - 2] + array[i], dp[i - 1])\n",
        "print(dp[n - 1])"
      ]
    }
  ]
}