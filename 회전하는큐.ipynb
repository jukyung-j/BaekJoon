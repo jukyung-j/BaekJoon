{
  "nbformat": 4,
  "nbformat_minor": 0,
  "metadata": {
    "colab": {
      "provenance": [],
      "authorship_tag": "ABX9TyObmHIyfaTH0wDpHH5BW5e7",
      "include_colab_link": true
    },
    "kernelspec": {
      "name": "python3",
      "display_name": "Python 3"
    },
    "language_info": {
      "name": "python"
    }
  },
  "cells": [
    {
      "cell_type": "markdown",
      "metadata": {
        "id": "view-in-github",
        "colab_type": "text"
      },
      "source": [
        "<a href=\"https://colab.research.google.com/github/jukyung-j/BaekJoon/blob/master/%ED%9A%8C%EC%A0%84%ED%95%98%EB%8A%94%ED%81%90.ipynb\" target=\"_parent\"><img src=\"https://colab.research.google.com/assets/colab-badge.svg\" alt=\"Open In Colab\"/></a>"
      ]
    },
    {
      "cell_type": "code",
      "execution_count": 41,
      "metadata": {
        "colab": {
          "base_uri": "https://localhost:8080/"
        },
        "id": "OPW88oojVf6L",
        "outputId": "719ab006-e624-4a88-a2bb-167a8fb34de9"
      },
      "outputs": [
        {
          "output_type": "stream",
          "name": "stdout",
          "text": [
            "10 3\n",
            "1 2 3\n",
            "[1, 2, 3, 4, 5, 6, 7, 8, 9, 10]\n",
            "[2, 3, 4, 5, 6, 7, 8, 9, 10]\n",
            "[3, 4, 5, 6, 7, 8, 9, 10]\n",
            "0\n"
          ]
        }
      ],
      "source": [
        "m, n = map(int, input().split())\n",
        "order_list = list(map(int, input().split()))\n",
        "que = [i+1 for i in range(m)]\n",
        "index, count = 0, 0  # order_list 인덱스, 카운트\n",
        "while len(que) > m - n:\n",
        "  if que[0] == order_list[index]:\n",
        "    que.pop(0)\n",
        "    index += 1\n",
        "  else:\n",
        "    position = que.index(order_list[index])\n",
        "    if len(que[position + 1:]) < len(que[:position]): # 오른쪽 이동\n",
        "      right = que[position:]\n",
        "\n",
        "      count += len(right)\n",
        "      que = right + que[:position]\n",
        "    else: # 왼쪽 이동\n",
        "      left = que[:position]\n",
        "      count += len(left)\n",
        "      que = que[position:] + left\n",
        "print(count)\n",
        "\n"
      ]
    },
    {
      "cell_type": "code",
      "source": [],
      "metadata": {
        "id": "TA-IXtpqWALk"
      },
      "execution_count": null,
      "outputs": []
    }
  ]
}